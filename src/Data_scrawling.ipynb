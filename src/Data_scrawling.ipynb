{
 "cells": [
  {
   "cell_type": "markdown",
   "id": "41c4d7d7-6d8b-4f46-b1e4-2f7d9b80dfdd",
   "metadata": {},
   "source": [
    "<div style=\"text-align: center; font-family: 'Trebuchet MS', Arial, sans-serif; padding: 20px; font-size: 40px; font-weight: bold; border-radius: 0 0 0 0\">\n",
    "  TOPIC: ANALYSIS ON SPOTIFY MUSIC DATASET\n",
    "</div>"
   ]
  },
  {
   "cell_type": "markdown",
   "id": "51fa6b07-ced8-43f5-81fe-4617771159f1",
   "metadata": {},
   "source": [
    "### IMPORT LIBRARY"
   ]
  },
  {
   "cell_type": "code",
   "execution_count": 2,
   "id": "f73ba5bb-b496-4182-abe8-64007f80be70",
   "metadata": {},
   "outputs": [],
   "source": [
    "import pandas as pd\n",
    "import time\n",
    "import requests\n",
    "import json\n",
    "import base64\n",
    "import spotipy\n",
    "from spotipy.oauth2 import SpotifyClientCredentials\n",
    "\n",
    "import os\n",
    "import sys\n",
    "module_path = os.path.abspath(os.path.join('..'))\n",
    "if module_path not in sys.path:\n",
    "    sys.path.append(module_path)"
   ]
  },
  {
   "cell_type": "markdown",
   "id": "ac883df4-ad83-4dc7-bc75-80ffbb5acc38",
   "metadata": {},
   "source": [
    "#### SPOTIFY APP SERVICE"
   ]
  },
  {
   "cell_type": "code",
   "execution_count": 3,
   "id": "fdf6bf53-aed3-4005-8f8f-7bc5cb68d99a",
   "metadata": {},
   "outputs": [],
   "source": [
    "client_id = '8baff689c66f41f6bf336b48e0227986'\n",
    "client_secrect = '1dceea60c8ef47edb7ef1e9af2a25b00'"
   ]
  },
  {
   "cell_type": "code",
   "execution_count": 4,
   "id": "2744302c-0b0e-44bb-9c58-25faaa646397",
   "metadata": {},
   "outputs": [],
   "source": [
    "client_credentials_manager = SpotifyClientCredentials(client_id= client_id, client_secret=client_secrect)\n",
    "sp = spotipy.Spotify(client_credentials_manager = client_credentials_manager)"
   ]
  },
  {
   "cell_type": "markdown",
   "id": "1c1e263a-71b1-4b41-adcc-72791dde1ae5",
   "metadata": {},
   "source": [
    "#### COLLECT SONG ID"
   ]
  },
  {
   "cell_type": "code",
   "execution_count": 5,
   "id": "d4579f34-4183-4260-8a54-0f7f7296e103",
   "metadata": {},
   "outputs": [],
   "source": [
    "def getTrackIDs(user, playlist_id):\n",
    "    ids = []\n",
    "    playlist = sp.user_playlist(user, playlist_id)\n",
    "    for item in playlist['tracks']['items']:\n",
    "        track = item['track']\n",
    "        ids.append(track['id'])\n",
    "    return ids\n",
    "\n",
    "list_ids = ['1mB0DBalm5cTnkoi8yDFul','2epxZXtcTe62a84NKZb8QG', '1WCRwQ0f4yT8tuIUUxP5m1', '5bcAJjpaCMx8XzXLnWHHVK','5ncHuP1HcYZp6HAePWaCd3',\n",
    "           '5ABHKGoOzxkaa28ttQV9sE','6UeSakyzhiEt4NB3UAd6NQ','37i9dQZEVXbMDoHDwVN2tF','0sDahzOkMWOmLXfTMf2N4N','0Hm1tCeFv45CJkNeIAtrfF',\n",
    "           '1im044OopXyqsGbNu8Zqby','37i9dQZF1DX1lVhptIYRda','3Q1DIJ51dJpUO6RhnIHdVx','6XM09BXwn7GbPOBtYz4P0c','37i9dQZF1DXcBWIGoYBM5M',\n",
    "           '0mIPq61j4OwkEI2PJqF4KM', '3zizLVVeYkBqmMgc6gSipz', '0o1z9Kvrut2bdFz4ch8KJL', '0WTLoUyFGk2LgHItNypwD6', '3NxtIYiCJbYQxR6asb50rI',\n",
    "            '4rzLM0vUSkWDbyZjar47Mn', '0gmrKACQuK6ofin5KE7C9Y','4s0uG8eyH7JL67ao9CqKKm','37i9dQZF1DWVRSukIED0e9','7DmYmaINse2wok7HB4MxLI',\n",
    "            '7fzCJJxN3YkcQhCxzsF4mJ','0MXE7Lmn9pkorY7abJ342q','0LsEiuJEyeSMKhMO3HxKZl','6B61IbjXD9FN8Q5C1v5o0r','6AQo79Z4DFTBDVbjQxaSDf',\n",
    "            '37i9dQZF1E8LvjE60aKTzy', '6E78Qx5kl7Fg3rSLyh8Byd','0VGIxlzRn8SXjv4r63hToK', '3JKDTAGfite5jRRRpaEzbY','6cTmH5sZ86x8vUeg1PK2Zn',\n",
    "            '37i9dQZF1DX8XZ6AUo9R4R','6BnAjpTzg1NmI7ZN5lSeFn','41HbOpyTNgJapHx3RAoOH9','3x9oyk1HtXwz9VsjDbYd5y','4K5YVRuZfLcFRn565Sh6fQ']\n",
    "\n",
    "#This is my user id and some top playlist that people hear on spotify\n",
    "#https://open.spotify.com/playlist/2epxZXtcTe62a84NKZb8QG?si=5239b4a603b74f87,'\n",
    "#https://open.spotify.com/playlist/1WCRwQ0f4yT8tuIUUxP5m1?si=94b36ef02805436e\n",
    "#https://open.spotify.com/playlist/5bcAJjpaCMx8XzXLnWHHVK?si=13c7ee93daa6431b\n",
    "#https://open.spotify.com/playlist/5ncHuP1HcYZp6HAePWaCd3?si=292517da5cad4278\n",
    "#https://open.spotify.com/playlist/1mB0DBalm5cTnkoi8yDFul?si=5ab714bb891d4218\n",
    "#https://open.spotify.com/playlist/5ABHKGoOzxkaa28ttQV9sE?si=a540ff24c9904e2e\n",
    "#https://open.spotify.com/playlist/6UeSakyzhiEt4NB3UAd6NQ?si=71865fce599e4f5a\n",
    "#https://open.spotify.com/playlist/37i9dQZEVXbMDoHDwVN2tF?si=926fcfda635649b1\n",
    "#https://open.spotify.com/playlist/0sDahzOkMWOmLXfTMf2N4N?si=67cd40edbd29430d\n",
    "#https://open.spotify.com/playlist/0Hm1tCeFv45CJkNeIAtrfF?si=5c7f73d7c2754c5a\n",
    "#https://open.spotify.com/playlist/1im044OopXyqsGbNu8Zqby?si=9dc48e82d8c84195\n",
    "#https://open.spotify.com/playlist/37i9dQZF1DX1lVhptIYRda?si=2db3ead1b5bd4a86\n",
    "#https://open.spotify.com/playlist/37i9dQZF1DXcBWIGoYBM5M?si=14f7109efcfa4b2e\n",
    "#https://open.spotify.com/playlist/3Q1DIJ51dJpUO6RhnIHdVx?si=60294bdf4a484c9e\n",
    "#https://open.spotify.com/playlist/6XM09BXwn7GbPOBtYz4P0c?si=55ef50617b3845e0\n",
    "\n",
    "#https://open.spotify.com/playlist/0mIPq61j4OwkEI2PJqF4KM?si=a977601dcf0b44a8\n",
    "#https://open.spotify.com/playlist/3zizLVVeYkBqmMgc6gSipz?si=0d2c980b9d56461c\n",
    "#https://open.spotify.com/playlist/0o1z9Kvrut2bdFz4ch8KJL?si=a1b732df06854935\n",
    "#https://open.spotify.com/playlist/0WTLoUyFGk2LgHItNypwD6?si=dc938a37eb6e447e\n",
    "#https://open.spotify.com/playlist/4rzLM0vUSkWDbyZjar47Mn?si=14e08a2466034e55\n",
    "#https://open.spotify.com/playlist/0gmrKACQuK6ofin5KE7C9Y?si=28fb531fc0b5400a\n",
    "\n",
    "#https://open.spotify.com/playlist/4s0uG8eyH7JL67ao9CqKKm?si=dccf2d35d9be459b\n",
    "#https://open.spotify.com/playlist/37i9dQZF1DWVRSukIED0e9?si=682eb88235ba4a0a\n",
    "#https://open.spotify.com/playlist/7DmYmaINse2wok7HB4MxLI?si=08c97248e9004554\n",
    "#https://open.spotify.com/playlist/7fzCJJxN3YkcQhCxzsF4mJ?si=3c0787b62091430b\n",
    "#https://open.spotify.com/playlist/3NxtIYiCJbYQxR6asb50rI?si=b9de899d2f084e4d\n",
    "#https://open.spotify.com/playlist/0MXE7Lmn9pkorY7abJ342q?si=9c6660fa5a6146f5\n",
    "\n",
    "#https://open.spotify.com/playlist/0LsEiuJEyeSMKhMO3HxKZl?si=19538edf9cf94889\n",
    "#https://open.spotify.com/playlist/6B61IbjXD9FN8Q5C1v5o0r?si=a5ce33ba19ba4cb7\n",
    "#https://open.spotify.com/playlist/6AQo79Z4DFTBDVbjQxaSDf?si=8bba43bda0f04e29\n",
    "#https://open.spotify.com/playlist/37i9dQZF1E8LvjE60aKTzy?si=f12cefec1546466c\n",
    "#https://open.spotify.com/playlist/6E78Qx5kl7Fg3rSLyh8Byd?si=ec4fa6c766ca44c9\n",
    "#https://open.spotify.com/playlist/0VGIxlzRn8SXjv4r63hToK?si=8714a23ee32d4f82\n",
    "#https://open.spotify.com/playlist/3JKDTAGfite5jRRRpaEzbY?si=2855fcceff554e87\n",
    "\n",
    "#https://open.spotify.com/playlist/3sdtzcAtBxfEnsYyeS2og5?si=22a67fd2851a494d\n",
    "#https://open.spotify.com/playlist/6cTmH5sZ86x8vUeg1PK2Zn?si=86914eec86d94021\n",
    "#https://open.spotify.com/playlist/37i9dQZF1DX8XZ6AUo9R4R?si=cb368a1c1a0741b0\n",
    "#https://open.spotify.com/playlist/6BnAjpTzg1NmI7ZN5lSeFn?si=6f17f51796fa4c16\n",
    "#https://open.spotify.com/playlist/41HbOpyTNgJapHx3RAoOH9?si=1777dd006f2b4cb2\n",
    "#https://open.spotify.com/playlist/3x9oyk1HtXwz9VsjDbYd5y?si=e65f29089d7847f2\n",
    "#https://open.spotify.com/playlist/4K5YVRuZfLcFRn565Sh6fQ?si=9093ce94444a401f\n",
    "#\n",
    "list_ids = ['3sdtzcAtBxfEnsYyeS2og5']\n",
    "ids = []\n",
    "for id in list_ids:\n",
    "    ids.extend(getTrackIDs('31jjosonyy4247jwmnho4zthpm4m', id))\n"
   ]
  },
  {
   "cell_type": "code",
   "execution_count": 6,
   "id": "3a1ae1e2-f8dc-4b29-9a31-2d358e0780c6",
   "metadata": {},
   "outputs": [
    {
     "name": "stdout",
     "output_type": "stream",
     "text": [
      "100\n",
      "['4WjH9Bzt3kx7z8kl0awxh4', '66hayvUbTotekKU3H4ta1f', '494OU6M7NOf4ICYb4zWCf5', '32OlwWuMpZ6b0aN2RZOeMS', '07nH4ifBxUB4lZcsf44Brn', '7MmG8p0F9N3C4AXdK6o6Eb', '16pwlVsypm4aDKMhXdOuXg', '5rwdhliMmo0aAQ08vU0AOZ', '6g1NlCpW7fgqDnWbCCDrHl', '3zKST4nk4QJE77oLjUZ0Ng', '6YUTL4dYpB9xZO5qExPf05', '7pYfyrMNPn3wtoCyqcTVoI', '3w3y8KPTfNeOKPiqUTakBh', '386RUes7n1uM1yfzgeUuwp', '0TDLuuLlV54CkRRUOahJb4', '6nsLzJfvp5OLd4mgqUJkpq', '3OwPSJu609AMzotCEyoMiO', '7exnxg6XItzllOVVvFgwQE', '22mek4IiqubGD9ctzxc69s', '3RiPr603aXAoi4GHyXx0uy', '2GpHJb7xGNBaIDTrBxjIu6', '6BnONjR7itGMEqwxKTIlRM', '0KTsmr6JOuhxZuiXUha1xC', '6FE2iI43OZnszFLuLtvvmg', '2Foc5Q5nqNiosCNqttzHof', '285HeuLxsngjFn4GGegGNm', '6b8Be6ljOzmkOmFslEb23P', '4pLwZjInHj3SimIyN9SnOz', '1XGmzt0PVuFgQYYnV2It7A', '2Z8WuEywRWYTKe1NybPQEW', '3AGOgQzp0YcPH41u9p7dOp', '4aWmUDTfIPGksMNLV2rQP2', '0b9oOr2ZgvyQu88wzixux9', '6RtPijgfPKROxEzTHNRiDp', '7uzmGiiJyRfuViKKK3lVmR', '7w87IxuO7BDcJ3YUqCyMTT', '7Izh7zLJGw1Nscd62Exxj4', '5bcTCxgc7xVfSaMV3RuVke', '6Qn5zhYkTa37e91HC1D7lb', '5OCJzvD7sykQEKHH7qAC3C', '0KKkJNfGyhkQ5aFogxQAPU', '3QGsuHI8jO1Rx4JWLUh9jd', '1sWeSMifj6Z6kZyI6z3bRc', '1zB4vmk8tFRmM9UULNzbLB', '62yJjFtgkhUrXktIoSjgP2', '2tpWsVSb9UEmDRxAl1zhX1', '5qaEfEh1AtSdrdrByCP7qR', '6epn3r7S14KUqlReYr77hA', '3rLIv187BhjyweFe89SgLn', '2rPE9A1vEgShuZxxzR2tZH', '0xGl8HKFncXK7aFZRTGZsr', '5p7ujcrUXASCNwRaWNHR1C', '2FY7b99s15jUprqC0M5NCT', '6u7jPi22kF8CTQ3rb9DHE7', '6fTt0CH2t0mdeB2N9XFG5r', '51Fjme0JiitpyXKuyQiCDo', '1rqqCSm0Qe4I9rUvWncaom', '5YLHLxoZsodDWjqSgjhBf3', '7k4t7uLgtOxPwTpFmtJNTY', '3CRDbSIZ4r5MsZ0YwxuEkn', '3vvvxijSiLemsZPIZGFpo4', '12KUFSHFgT0XCoiSlvdQi4', '5jE48hhRu8E6zBDPRSkEq7', '466s1BacUmiRdR3ISvNjyx', '6ocbgoVGwYJhOv1GgI9NsF', '7ju97lgwC2rKQ6wwsf9no9', '0SiywuOBRcynK0uKGWdCnn', '1QV6tiMFM6fSOKOGLMHYYg', '113v1MA9MTShy98uCz37nO', '5jrdCoLpJSvHHorevXBATy', '4u7EnebtmKWzUH433cf5Qv', '63CSozvYUEudPp12679UVF', '0y60itmpH0aPKsFiGxmtnh', '6UelLqGlWMcVH1E5c4H7lY', '2oRQmJitqUIwovf3Ttg4sw', '0VjIjW4GlUZAMYd2vXMi3b', '7szuecWAPwGoV1e5vGu8tl', '03UrZgTINDqvnUMbbIMhql', '2CEgGE6aESpnmtfiZwYlbV', '2iUXsYOEPhVqEBwsqP70rE', '6zFMeegAMYQo0mt8rXtrli', '4ak7xjvBeBOcJGWFDX9w5n', '3Dv1eDb0MEgF93GpLXlucZ', '1ghvzmzpx2nnrbx7wtpMgo', '60ynsPSSKe6O3sfwRnIBRf', '7MAibcTli4IisCtbHKrGMh', '4EivmOT13NMpNSfTKn9p4s', '3BZEcbdtXQSo7OrvKRJ6mb', '748mdHapucXQri7IAO8yFK', '27NovPIUIRrOZoCHxABJwK', '3Vi5XqYrmQgOYBajMWSvCi', '6Uj1ctrBOjOas8xZXGqKk4', '3JTjLyrnevl9ASw3ayGO2P', '3ggtU1ZOKO8ZNiqPNyXGcm', '2GbS8QZToLioxL8XMEwX3P', '5eqiMMbaeUZ32Q7sS00H35', '1r9xUipOqoNwggBpENDsvJ', '1u8c2t2Cy7UBoG4ArRcF5g', '0cqRj7pUJDkTCEsJkx8snD', '0TvQLMecTE8utzoNmvXRbK']\n"
     ]
    }
   ],
   "source": [
    "print(len(ids))\n",
    "print(ids)"
   ]
  },
  {
   "cell_type": "markdown",
   "id": "cb6867a6-5045-40b4-8292-b3deeb293a45",
   "metadata": {},
   "source": [
    "#### EXTRAXT FEATURES"
   ]
  },
  {
   "cell_type": "code",
   "execution_count": 7,
   "id": "979b8f4f-09eb-4dfd-a7f9-e89cccd2457b",
   "metadata": {},
   "outputs": [],
   "source": [
    "def getTrackFeatures(id):\n",
    "  meta = sp.track(id)\n",
    "  features = sp.audio_features(id)\n",
    "\n",
    "  # meta\n",
    "  name = meta['name']\n",
    "  album = meta['album']['name']\n",
    "  artist = meta['album']['artists'][0]['name']\n",
    "  release_date = meta['album']['release_date']\n",
    "  length = meta['duration_ms']\n",
    "  popularity = meta['popularity']\n",
    "\n",
    "  # features\n",
    "  acousticness = features[0]['acousticness']\n",
    "  danceability = features[0]['danceability']\n",
    "  energy = features[0]['energy']\n",
    "  instrumentalness = features[0]['instrumentalness']\n",
    "  liveness = features[0]['liveness']\n",
    "  loudness = features[0]['loudness']\n",
    "  speechiness = features[0]['speechiness']\n",
    "  tempo = features[0]['tempo']\n",
    "  time_signature = features[0]['time_signature']\n",
    "\n",
    "  track = [name, album, artist, release_date, length, popularity, danceability, acousticness, danceability, energy, instrumentalness, liveness, loudness, speechiness, tempo, time_signature]\n",
    "  return track"
   ]
  },
  {
   "cell_type": "markdown",
   "id": "49a9d7f3-91d6-4fbb-9fb2-928347490620",
   "metadata": {},
   "source": [
    "#### REQUEST"
   ]
  },
  {
   "cell_type": "code",
   "execution_count": 8,
   "id": "6ffabba7-f154-4863-80f8-9b4c1daed025",
   "metadata": {},
   "outputs": [
    {
     "name": "stdout",
     "output_type": "stream",
     "text": [
      "['This Is America', 'This Is America', 'Childish Gambino', '2018-05-06', 225773, 71, 0.854, 0.117, 0.854, 0.463, 0, 0.354, -6.159, 0.137, 120.024, 4]\n",
      "['Rude', \"Don't Kill the Magic\", 'MAGIC!', '2014-06-25', 224840, 83, 0.773, 0.0422, 0.773, 0.758, 0, 0.305, -4.993, 0.0381, 144.033, 4]\n",
      "['Mine', 'COSMIC', 'Bazzi', '2018-04-12', 131064, 77, 0.71, 0.0161, 0.71, 0.789, 2.77e-06, 0.451, -3.874, 0.0722, 142.929, 4]\n",
      "['Pumped Up Kicks', 'Torches', 'Foster The People', '2011-05-23', 239600, 86, 0.733, 0.145, 0.733, 0.71, 0.115, 0.0956, -5.849, 0.0292, 127.975, 4]\n",
      "['Believer', 'Evolve', 'Imagine Dragons', '2017-06-23', 204346, 0, 0.762, 0.0537, 0.762, 0.787, 0, 0.126, -4.311, 0.127, 125.067, 4]\n",
      "['Feels (feat. Pharrell Williams, Katy Perry & Big Sean)', 'Funk Wav Bounces Vol.1', 'Calvin Harris', '2017-06-30', 223413, 78, 0.893, 0.0642, 0.893, 0.745, 0, 0.0943, -3.105, 0.0571, 101.018, 4]\n",
      "['Whatever It Takes', 'Evolve', 'Imagine Dragons', '2017-06-23', 201240, 84, 0.672, 0.0362, 0.672, 0.655, 0, 0.117, -5.021, 0.0311, 134.945, 4]\n",
      "['God is a woman', 'Sweetener', 'Ariana Grande', '2018-08-17', 197546, 79, 0.602, 0.0233, 0.602, 0.658, 6e-05, 0.237, -5.934, 0.0558, 145.031, 4]\n",
      "[\"That's What I Like\", '24K Magic', 'Bruno Mars', '2016-11-17', 206693, 89, 0.853, 0.013, 0.853, 0.56, 0, 0.0944, -4.961, 0.0406, 134.066, 4]\n",
      "['Treat You Better', 'Illuminate', 'Shawn Mendes', '2017-04-20', 187973, 88, 0.444, 0.106, 0.444, 0.819, 0, 0.107, -4.078, 0.341, 82.695, 4]\n",
      "['Warriors', 'Smoke + Mirrors (Deluxe)', 'Imagine Dragons', '2015-05-18', 171040, 76, 0.365, 0.0964, 0.365, 0.851, 0.003, 0.237, -6.238, 0.0645, 78.086, 4]\n",
      "['Thunder', 'Evolve', 'Imagine Dragons', '2017-06-23', 187146, 88, 0.605, 0.00671, 0.605, 0.822, 0.134, 0.147, -4.833, 0.0438, 167.997, 4]\n",
      "['Radioactive', 'Night Visions', 'Imagine Dragons', '2012-09-04', 186813, 84, 0.448, 0.106, 0.448, 0.784, 0.000108, 0.668, -3.686, 0.0627, 136.245, 4]\n",
      "['Counting Stars', 'Native', 'OneRepublic', '2013-01-01', 257265, 89, 0.664, 0.0654, 0.664, 0.705, 0, 0.118, -4.972, 0.0382, 122.016, 4]\n",
      "['Demons', 'Night Visions', 'Imagine Dragons', '2012-09-04', 177506, 87, 0.505, 0.19, 0.505, 0.71, 0.00025, 0.269, -3.015, 0.0321, 89.938, 4]\n",
      "['Baby', 'My World 2.0', 'Justin Bieber', '2010-01-01', 214240, 84, 0.728, 0.0401, 0.728, 0.859, 0, 0.111, -5.237, 0.137, 65.043, 4]\n",
      "['Somebody To Love', 'My World 2.0', 'Justin Bieber', '2010-01-01', 220920, 73, 0.714, 0.00249, 0.714, 0.833, 0, 0.298, -5.239, 0.0259, 129.964, 4]\n",
      "['thank u, next', 'thank u, next', 'Ariana Grande', '2018-11-03', 207333, 22, 0.724, 0.28, 0.724, 0.647, 0, 0.102, -5.642, 0.0658, 106.96, 4]\n",
      "['Bitch Lasagna', 'Bitch Lasagna', 'Party in Backyard', '2018-11-06', 134416, 0, 0.795, 0.0133, 0.795, 0.789, 0, 0.113, -5.21, 0.259, 149.961, 4]\n",
      "['Without Me', 'Without Me', 'Halsey', '2018-10-04', 201660, 76, 0.752, 0.297, 0.752, 0.488, 9.11e-06, 0.0936, -7.05, 0.0705, 136.041, 4]\n",
      "['Natural', 'Origins (Deluxe)', 'Imagine Dragons', '2018-11-09', 189466, 83, 0.704, 0.217, 0.704, 0.611, 0, 0.0812, -6.112, 0.0409, 100.0, 4]\n",
      "['Old Town Road (feat. Billy Ray Cyrus) - Remix', 'Old Town Road', 'Lil Nas X', '2019-04-05', 157066, 4, 0.878, 0.0533, 0.878, 0.619, 0, 0.113, -5.56, 0.102, 136.041, 4]\n",
      "['Panini', '7 EP', 'Lil Nas X', '2019-06-21', 114893, 61, 0.703, 0.342, 0.703, 0.594, 0, 0.123, -6.146, 0.0752, 153.848, 4]\n",
      "['Lalala', 'Lalala', 'Y2K', '2019-06-28', 160626, 75, 0.843, 0.178, 0.843, 0.39, 0, 0.137, -7.899, 0.0846, 129.972, 4]\n",
      "['High Hopes', 'Pray for the Wicked', 'Panic! At The Disco', '2018-06-22', 190946, 82, 0.579, 0.193, 0.579, 0.904, 0, 0.064, -2.729, 0.0618, 82.014, 4]\n",
      "['Myself', 'COSMIC', 'Bazzi', '2018-04-12', 167552, 68, 0.745, 0.465, 0.745, 0.561, 1.12e-06, 0.0338, -5.513, 0.072, 195.918, 4]\n",
      "['Tusa', 'Tusa', 'KAROL G', '2019-11-07', 200960, 77, 0.803, 0.295, 0.803, 0.715, 0.000134, 0.0574, -3.28, 0.298, 101.085, 4]\n",
      "['Stressed Out', 'Blurryface', 'Twenty One Pilots', '2015-05-15', 202333, 89, 0.734, 0.0462, 0.734, 0.637, 2.29e-05, 0.0602, -5.677, 0.141, 169.977, 4]\n",
      "['Mama', 'Mama', 'Ella Eyre', '2019-08-08', 187927, 47, 0.696, 0.0723, 0.696, 0.761, 0, 0.228, -5.227, 0.172, 129.935, 4]\n",
      "['Break Free', 'My Everything (Deluxe)', 'Ariana Grande', '2014-08-25', 214840, 78, 0.687, 0.0064, 0.687, 0.702, 4.35e-05, 0.204, -5.324, 0.0455, 129.956, 4]\n",
      "['All About That Bass', 'Title (Deluxe)', 'Meghan Trainor', '2015-01-09', 187920, 75, 0.807, 0.0573, 0.807, 0.887, 2.87e-06, 0.124, -3.726, 0.0503, 134.052, 4]\n",
      "['Bang Bang', 'My Everything (Deluxe)', 'Ariana Grande', '2014-08-25', 199320, 62, 0.703, 0.283, 0.703, 0.747, 0, 0.396, -4.446, 0.0895, 149.974, 4]\n",
      "['7 rings', 'thank u, next', 'Ariana Grande', '2019-02-08', 178626, 85, 0.778, 0.592, 0.778, 0.317, 0, 0.0881, -10.732, 0.334, 140.048, 4]\n",
      "['Rain On Me (with Ariana Grande)', 'Chromatica', 'Lady Gaga', '2020-05-29', 182200, 75, 0.672, 0.021, 0.672, 0.855, 0, 0.323, -3.764, 0.0397, 123.056, 4]\n",
      "['Bad Romance', 'The Fame Monster (Deluxe Edition)', 'Lady Gaga', '2009-11-05', 294573, 84, 0.696, 0.00314, 0.696, 0.921, 5.24e-05, 0.0842, -3.755, 0.0363, 119.001, 4]\n",
      "['Poker Face', 'The Fame', 'Lady Gaga', '2008-01-01', 237200, 83, 0.851, 0.118, 0.851, 0.806, 1.64e-06, 0.121, -4.62, 0.0787, 118.999, 4]\n",
      "['Umbrella - Radio Edit', 'Umbrella', 'Rihanna', '2007-03-29', 257053, 58, 0.596, 0.0115, 0.596, 0.823, 0, 0.0658, -4.586, 0.134, 174.056, 4]\n",
      "['Dark Horse', 'PRISM (Deluxe)', 'Katy Perry', '2013-10-18', 215672, 78, 0.645, 0.00314, 0.645, 0.585, 0, 0.165, -6.122, 0.0513, 131.931, 4]\n",
      "['Bohemian Rhapsody - Remastered 2011', 'A Night At The Opera (2011 Remaster)', 'Queen', '1975-11-21', 354320, 83, 0.414, 0.271, 0.414, 0.404, 0, 0.3, -9.928, 0.0499, 71.105, 4]\n",
      "[\"Don't Worry (with Ray Dalton) - Radio Edit\", \"Don't Worry (feat. Ray Dalton)\", 'Madcon', '2015-04-10', 214789, 72, 0.811, 0.0726, 0.811, 0.699, 1.38e-06, 0.148, -5.211, 0.114, 122.987, 4]\n",
      "['Wait a Minute!', 'ARDIPITHECUS', 'WILLOW', '2015-01-11', 196520, 82, 0.764, 0.0371, 0.764, 0.705, 1.94e-05, 0.0943, -5.279, 0.0278, 101.003, 4]\n",
      "['Watermelon Sugar', 'Fine Line', 'Harry Styles', '2019-12-13', 174000, 88, 0.548, 0.122, 0.548, 0.816, 0, 0.335, -4.209, 0.0465, 95.39, 4]\n",
      "['Hey Ya!', 'Kiss R&B Digital Downloads', 'Various Artists', '2006-10-30', 236026, 47, 0.714, 0.0672, 0.714, 0.946, 0.000486, 0.187, -4.779, 0.0556, 79.52, 4]\n",
      "['Blinding Lights', 'After Hours', 'The Weeknd', '2020-03-20', 200040, 92, 0.514, 0.00146, 0.514, 0.73, 9.54e-05, 0.0897, -5.934, 0.0598, 171.005, 4]\n",
      "['In Your Eyes', 'After Hours', 'The Weeknd', '2020-03-20', 237520, 80, 0.667, 0.00285, 0.667, 0.719, 8.1e-05, 0.0736, -5.371, 0.0346, 100.021, 4]\n",
      "['Gangnam Style (강남스타일)', 'Gangnam Style (강남스타일)', 'PSY', '2012-01-01', 219493, 76, 0.727, 0.00417, 0.727, 0.937, 0, 0.091, -2.871, 0.286, 132.067, 4]\n",
      "['Dynamite', 'The Rokstarr Hits Collection', 'Taio Cruz', '2010-01-01', 202613, 78, 0.751, 0.00379, 0.751, 0.783, 0, 0.036, -3.724, 0.0859, 119.975, 4]\n",
      "['Youngblood', 'Youngblood (Deluxe)', '5 Seconds of Summer', '2018-06-15', 203417, 84, 0.596, 0.0169, 0.596, 0.854, 0, 0.124, -5.114, 0.463, 120.274, 4]\n",
      "['HOLIDAY', 'HOLIDAY', 'Lil Nas X', '2020-11-13', 154997, 74, 0.81, 0.12, 0.81, 0.511, 0, 0.0832, -6.924, 0.164, 151.947, 4]\n",
      "['Rodeo', '7 EP', 'Lil Nas X', '2019-06-21', 158706, 66, 0.706, 0.139, 0.706, 0.679, 6.98e-05, 0.465, -5.614, 0.0324, 140.081, 4]\n",
      "['Say So', 'Hot Pink', 'Doja Cat', '2019-11-07', 237893, 79, 0.787, 0.264, 0.787, 0.673, 3.35e-06, 0.0904, -4.583, 0.159, 110.962, 4]\n",
      "['Cyber Sex', 'Hot Pink', 'Doja Cat', '2019-11-07', 165733, 70, 0.917, 0.318, 0.917, 0.657, 3.62e-06, 0.0754, -5.716, 0.0921, 131.03, 4]\n",
      "['Streets', 'Hot Pink', 'Doja Cat', '2019-11-07', 226986, 83, 0.749, 0.21, 0.749, 0.463, 0.0382, 0.338, -8.433, 0.0842, 90.035, 4]\n",
      "['Leave The Door Open', 'Leave The Door Open', 'Bruno Mars', '2021-03-05', 242096, 21, 0.586, 0.182, 0.586, 0.616, 0, 0.0927, -7.964, 0.0324, 148.088, 4]\n",
      "['Like That (feat. Gucci Mane)', 'Hot Pink', 'Doja Cat', '2019-11-07', 163173, 76, 0.879, 0.239, 0.879, 0.498, 0, 0.0967, -6.027, 0.18, 106.044, 4]\n",
      "['MONTERO (Call Me By Your Name)', 'MONTERO (Call Me By Your Name)', 'Lil Nas X', '2021-03-26', 137875, 5, 0.61, 0.297, 0.61, 0.508, 0, 0.384, -6.682, 0.152, 178.818, 4]\n",
      "['Kiss Me More (feat. SZA)', 'Kiss Me More (feat. SZA)', 'Doja Cat', '2021-04-09', 208866, 78, 0.762, 0.235, 0.762, 0.701, 0.000158, 0.123, -3.541, 0.0286, 110.968, 4]\n",
      "['INDUSTRY BABY (feat. Jack Harlow)', 'INDUSTRY BABY (feat. Jack Harlow)', 'Lil Nas X', '2021-07-23', 212000, 80, 0.736, 0.0203, 0.736, 0.704, 0, 0.0501, -7.409, 0.0615, 149.995, 4]\n",
      "['Need to Know', 'Planet Her', 'Doja Cat', '2021-06-25', 210560, 81, 0.664, 0.304, 0.664, 0.609, 0, 0.0926, -6.509, 0.0707, 130.041, 4]\n",
      "['Woman', 'Planet Her', 'Doja Cat', '2021-06-25', 172626, 86, 0.824, 0.0888, 0.824, 0.764, 0.00294, 0.117, -4.175, 0.0854, 107.998, 4]\n",
      "['GUY.exe', 'Future Friends', 'Superfruit', '2017-09-15', 222680, 70, 0.77, 0.0305, 0.77, 0.732, 0, 0.157, -4.601, 0.0508, 110.011, 4]\n",
      "['Dinero', 'Dinero', 'Trinidad Cardona', '2018-02-02', 160880, 70, 0.708, 0.00772, 0.708, 0.782, 0, 0.107, -4.687, 0.0674, 119.997, 4]\n",
      "['Cognac Queen', 'Tina Snow', 'Megan Thee Stallion', '2018-12-21', 222752, 65, 0.79, 0.0593, 0.79, 0.709, 0, 0.0794, -5.806, 0.224, 131.079, 4]\n",
      "['Anaconda', 'The Pinkprint (International Deluxe Explicit)', 'Nicki Minaj', '2014-12-15', 260239, 69, 0.964, 0.0668, 0.964, 0.605, 7.78e-06, 0.214, -6.223, 0.179, 129.994, 4]\n",
      "['Enemy (with JID) - from the series Arcane League of Legends', 'Enemy (with JID) [from the series Arcane League of Legends]', 'Imagine Dragons', '2021-10-28', 173381, 80, 0.728, 0.237, 0.728, 0.783, 0, 0.434, -4.424, 0.266, 77.011, 4]\n",
      "['Blank Space', '1989 (Deluxe)', 'Taylor Swift', '2014-01-01', 231826, 89, 0.76, 0.103, 0.76, 0.703, 0, 0.0913, -5.412, 0.054, 95.997, 4]\n",
      "['Shake It Off', '1989 (Deluxe)', 'Taylor Swift', '2014-01-01', 219200, 85, 0.647, 0.0647, 0.647, 0.8, 0, 0.334, -5.384, 0.165, 160.078, 4]\n",
      "['Bad Blood', '1989', 'Taylor Swift', '2014-01-01', 211933, 79, 0.652, 0.0871, 0.652, 0.802, 6.45e-06, 0.148, -6.114, 0.181, 170.157, 4]\n"
     ]
    }
   ],
   "source": [
    "# loop over track ids \n",
    "start = 32\n",
    "batch_size = 50\n",
    "end = 0\n",
    "tracks = []\n",
    "while (end < len(ids)):\n",
    "    end = start + batch_size\n",
    "    if (end > len(ids)) : end = len(ids)\n",
    "    for i in range(start,end):\n",
    "        time.sleep(.5)\n",
    "        track = getTrackFeatures(ids[i])\n",
    "        print(track)\n",
    "        tracks.append(track)        \n",
    "    start = end\n"
   ]
  },
  {
   "cell_type": "markdown",
   "id": "b4eeb465-5773-40a3-87a9-613bc6edde22",
   "metadata": {},
   "source": [
    "#### SAVE DATA"
   ]
  },
  {
   "cell_type": "code",
   "execution_count": 16,
   "id": "24de82ca-b23f-4ba5-88ae-bb92f7cc3999",
   "metadata": {},
   "outputs": [],
   "source": [
    "# create dataset\n",
    "# First time 670 song are recorded due to  SpotifyException: http status: 429, code:-1 - /v1/audio-features/?ids=1rv46mRwDqMEhOBZ7vODg3:\n",
    "# Seconday 462 songs due to HTTPSConnectionPool(host='api.spotify.com', port=443): Read timed out.\n",
    "# Thirdday 494 songs\n",
    "# Fourth day 418 songs + 580 songs + 603 songs\n",
    "# Max Retries, reason: too many 429 error responses\n",
    "df = pd.DataFrame(tracks, columns = ['name', 'album', 'artist', 'release_date', 'length', 'popularity', 'danceability', 'acousticness', 'danceability', 'energy', 'instrumentalness', 'liveness', 'loudness', 'speechiness', 'tempo', 'time_signature'])\n",
    "df.to_csv(\"../data/spotify_crawl.csv\", sep = ',')\n"
   ]
  }
 ],
 "metadata": {
  "kernelspec": {
   "display_name": "Python 3 (ipykernel)",
   "language": "python",
   "name": "python3"
  },
  "language_info": {
   "codemirror_mode": {
    "name": "ipython",
    "version": 3
   },
   "file_extension": ".py",
   "mimetype": "text/x-python",
   "name": "python",
   "nbconvert_exporter": "python",
   "pygments_lexer": "ipython3",
   "version": "3.12.0"
  }
 },
 "nbformat": 4,
 "nbformat_minor": 5
}
