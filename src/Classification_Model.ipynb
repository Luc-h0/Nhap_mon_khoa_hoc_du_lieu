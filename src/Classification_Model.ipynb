{
 "cells": [
  {
   "cell_type": "markdown",
   "id": "2a6cbe3f-f44b-4a4a-be3d-3ba1340606d0",
   "metadata": {},
   "source": [
    "<div style=\"text-align: center; font-family: 'Trebuchet MS', Arial, sans-serif; padding: 20px; font-size: 40px; font-weight: bold; border-radius: 0 0 0 0\">\n",
    "  TOPIC: ANALYSIS ON SPOTIFY MUSIC DATASET\n",
    "</div>"
   ]
  },
  {
   "attachments": {},
   "cell_type": "markdown",
   "id": "03048e5f-3f0a-4434-9097-8248c115e0df",
   "metadata": {},
   "source": [
    "### WHAT THIS NOTEBOOK DOES?\n",
    "- In this notebook, I will create a model in order to make prediction whether a song will get popular or not?\n",
    "- The models I choose to implement this idea are: Random forest, Naive Bayes and Multi-layer perceptron classifier.\n",
    "\n",
    "### State the problem:\n",
    "Forecasting a song's popularity is a challenging yet crucial task with extensive applications in the music industry. It involves analyzing factors like musical composition, artist popularity, and cultural trends. Accurate predictions aid record labels, streaming platforms, and artists in optimizing marketing strategies and enhancing the overall music consumption experience. Successfully navigating this dynamic landscape would benefit us a lots in many aspects.\n",
    "\n",
    "### Why we need these model?\n",
    "\n",
    "Lets's take some examples. Composers, producers, and publishers can use such a model to evaluate their songs before releasing them, and to optimize their marketing strategies. They can also use the model to discover new talents and potential hits. Listeners can use the model to find new songs that match their preferences and tastes. Streaming platforms can use the model to improve their recommendation systems and playlists.\n",
    "\r\n"
   ]
  },
  {
   "cell_type": "markdown",
   "id": "11cfc96e-22ab-45a4-b7c7-e6967d077780",
   "metadata": {},
   "source": [
    "## Table of content:\n",
    "* [IMPORT LIBRARY](#IMPORT-LIBRARY)\n",
    "* [PREPROCESSING DATA](#PREPROCESSING-DATA)\n",
    "* [IMPORT LIBRARY FOR MODEL](#IMPORT-LIBRARY-FOR-MODEL)\n",
    "* [MODEL 1: RANDOM FOREST CLASSIFIER](#MODEL-1:-RANDOM-FOREST-CLASSIFIER)\n",
    "* [MODEL 2: NAIVE BAYES CLASSIFIER](#MODEL-2:-NAIVE-BAYES-CLASSIFIER)\n",
    "* [MODEL 3: MULTI-LAYER PERCEPTRON CLASSIFIER](#MODEL-3:-MULTI-LAYER-PERCEPTRON-CLASSIFIER)"
   ]
  },
  {
   "cell_type": "markdown",
   "id": "d25e474b-3fa8-4a44-8779-8233abaa520a",
   "metadata": {},
   "source": [
    "### IMPORT LIBRARY"
   ]
  },
  {
   "cell_type": "code",
   "execution_count": 1,
   "id": "aa47213b-7c8a-479e-a3e4-cd9addef1f34",
   "metadata": {},
   "outputs": [],
   "source": [
    "import pandas as pd\n",
    "import numpy as np\n",
    "from sklearn.preprocessing import OneHotEncoder\n",
    "import seaborn as sns\n",
    "import matplotlib.pyplot as plt\n",
    "#warning\n",
    "import warnings\n",
    "\n",
    "#read files\n",
    "import os\n",
    "import sys\n",
    "module_path = os.path.abspath(os.path.join('..'))\n",
    "if module_path not in sys.path:\n",
    "    sys.path.append(module_path)"
   ]
  },
  {
   "cell_type": "markdown",
   "id": "9a436ec1-ffba-4a14-8e40-806890df258a",
   "metadata": {},
   "source": [
    "#### Read from file"
   ]
  },
  {
   "cell_type": "code",
   "execution_count": 2,
   "id": "765cdb93-b0b3-4d82-9968-db26fb246907",
   "metadata": {},
   "outputs": [],
   "source": [
    "df = pd.read_csv(\"../data/clean_data.csv\")"
   ]
  },
  {
   "cell_type": "code",
   "execution_count": 3,
   "id": "c40c8043-be21-42ee-8a44-f55aa9e85763",
   "metadata": {},
   "outputs": [
    {
     "data": {
      "text/html": [
       "<div>\n",
       "<style scoped>\n",
       "    .dataframe tbody tr th:only-of-type {\n",
       "        vertical-align: middle;\n",
       "    }\n",
       "\n",
       "    .dataframe tbody tr th {\n",
       "        vertical-align: top;\n",
       "    }\n",
       "\n",
       "    .dataframe thead th {\n",
       "        text-align: right;\n",
       "    }\n",
       "</style>\n",
       "<table border=\"1\" class=\"dataframe\">\n",
       "  <thead>\n",
       "    <tr style=\"text-align: right;\">\n",
       "      <th></th>\n",
       "      <th>name</th>\n",
       "      <th>album</th>\n",
       "      <th>artist</th>\n",
       "      <th>release_date</th>\n",
       "      <th>length</th>\n",
       "      <th>popularity</th>\n",
       "      <th>danceability</th>\n",
       "      <th>acousticness</th>\n",
       "      <th>energy</th>\n",
       "      <th>instrumentalness</th>\n",
       "      <th>liveness</th>\n",
       "      <th>loudness</th>\n",
       "      <th>speechiness</th>\n",
       "      <th>tempo</th>\n",
       "      <th>time_signature</th>\n",
       "    </tr>\n",
       "  </thead>\n",
       "  <tbody>\n",
       "    <tr>\n",
       "      <th>0</th>\n",
       "      <td>You Need To Calm Down</td>\n",
       "      <td>Lover</td>\n",
       "      <td>Taylor Swift</td>\n",
       "      <td>2019-08-23</td>\n",
       "      <td>171360</td>\n",
       "      <td>84</td>\n",
       "      <td>0.771</td>\n",
       "      <td>0.00929</td>\n",
       "      <td>0.671</td>\n",
       "      <td>0.000000</td>\n",
       "      <td>0.0637</td>\n",
       "      <td>-5.617</td>\n",
       "      <td>0.0553</td>\n",
       "      <td>85.026</td>\n",
       "      <td>4</td>\n",
       "    </tr>\n",
       "    <tr>\n",
       "      <th>1</th>\n",
       "      <td>thank u, next</td>\n",
       "      <td>thank u, next</td>\n",
       "      <td>Ariana Grande</td>\n",
       "      <td>2019-02-08</td>\n",
       "      <td>207320</td>\n",
       "      <td>82</td>\n",
       "      <td>0.717</td>\n",
       "      <td>0.22900</td>\n",
       "      <td>0.653</td>\n",
       "      <td>0.000000</td>\n",
       "      <td>0.1010</td>\n",
       "      <td>-5.634</td>\n",
       "      <td>0.0658</td>\n",
       "      <td>106.966</td>\n",
       "      <td>4</td>\n",
       "    </tr>\n",
       "    <tr>\n",
       "      <th>2</th>\n",
       "      <td>EARFQUAKE</td>\n",
       "      <td>IGOR</td>\n",
       "      <td>Tyler, The Creator</td>\n",
       "      <td>2019-05-17</td>\n",
       "      <td>190066</td>\n",
       "      <td>82</td>\n",
       "      <td>0.554</td>\n",
       "      <td>0.23000</td>\n",
       "      <td>0.498</td>\n",
       "      <td>0.000006</td>\n",
       "      <td>0.7950</td>\n",
       "      <td>-8.866</td>\n",
       "      <td>0.0685</td>\n",
       "      <td>79.635</td>\n",
       "      <td>4</td>\n",
       "    </tr>\n",
       "    <tr>\n",
       "      <th>3</th>\n",
       "      <td>Lose You To Love Me</td>\n",
       "      <td>Rare</td>\n",
       "      <td>Selena Gomez</td>\n",
       "      <td>2020-01-10</td>\n",
       "      <td>206458</td>\n",
       "      <td>82</td>\n",
       "      <td>0.488</td>\n",
       "      <td>0.55600</td>\n",
       "      <td>0.343</td>\n",
       "      <td>0.000000</td>\n",
       "      <td>0.2100</td>\n",
       "      <td>-8.985</td>\n",
       "      <td>0.0436</td>\n",
       "      <td>102.819</td>\n",
       "      <td>4</td>\n",
       "    </tr>\n",
       "    <tr>\n",
       "      <th>4</th>\n",
       "      <td>High Hopes</td>\n",
       "      <td>Pray for the Wicked</td>\n",
       "      <td>Panic! At The Disco</td>\n",
       "      <td>2018-06-22</td>\n",
       "      <td>190946</td>\n",
       "      <td>82</td>\n",
       "      <td>0.579</td>\n",
       "      <td>0.19300</td>\n",
       "      <td>0.904</td>\n",
       "      <td>0.000000</td>\n",
       "      <td>0.0640</td>\n",
       "      <td>-2.729</td>\n",
       "      <td>0.0618</td>\n",
       "      <td>82.014</td>\n",
       "      <td>4</td>\n",
       "    </tr>\n",
       "  </tbody>\n",
       "</table>\n",
       "</div>"
      ],
      "text/plain": [
       "                    name                album               artist  \\\n",
       "0  You Need To Calm Down                Lover         Taylor Swift   \n",
       "1          thank u, next        thank u, next        Ariana Grande   \n",
       "2              EARFQUAKE                 IGOR   Tyler, The Creator   \n",
       "3    Lose You To Love Me                 Rare         Selena Gomez   \n",
       "4             High Hopes  Pray for the Wicked  Panic! At The Disco   \n",
       "\n",
       "  release_date  length  popularity  danceability  acousticness  energy  \\\n",
       "0   2019-08-23  171360          84         0.771       0.00929   0.671   \n",
       "1   2019-02-08  207320          82         0.717       0.22900   0.653   \n",
       "2   2019-05-17  190066          82         0.554       0.23000   0.498   \n",
       "3   2020-01-10  206458          82         0.488       0.55600   0.343   \n",
       "4   2018-06-22  190946          82         0.579       0.19300   0.904   \n",
       "\n",
       "   instrumentalness  liveness  loudness  speechiness    tempo  time_signature  \n",
       "0          0.000000    0.0637    -5.617       0.0553   85.026               4  \n",
       "1          0.000000    0.1010    -5.634       0.0658  106.966               4  \n",
       "2          0.000006    0.7950    -8.866       0.0685   79.635               4  \n",
       "3          0.000000    0.2100    -8.985       0.0436  102.819               4  \n",
       "4          0.000000    0.0640    -2.729       0.0618   82.014               4  "
      ]
     },
     "execution_count": 3,
     "metadata": {},
     "output_type": "execute_result"
    }
   ],
   "source": [
    "df.head(5)"
   ]
  },
  {
   "cell_type": "markdown",
   "id": "20157806-6ad9-4968-8dc3-1b184e94fb66",
   "metadata": {},
   "source": [
    "### PREPROCESSING DATA"
   ]
  },
  {
   "cell_type": "code",
   "execution_count": 4,
   "id": "34719d37-ba60-41f2-83f3-4da2ad25ba6b",
   "metadata": {},
   "outputs": [],
   "source": [
    "warnings.filterwarnings('ignore')\n",
    "#Extract features\n",
    "famous_singer = df.artist.value_counts()\n",
    "famous_singer = pd.value_counts(df.artist).iloc[:15].index.tolist()\n",
    "df['star'] = np.where(df['artist'].isin(famous_singer), True ,  False)"
   ]
  },
  {
   "cell_type": "code",
   "execution_count": 5,
   "id": "03c3a7eb-d951-4506-824d-24a3b213a85b",
   "metadata": {},
   "outputs": [],
   "source": [
    "df_new = df[['name', 'album', 'artist', 'release_date', 'length', \n",
    "       'danceability', 'acousticness', 'energy', 'instrumentalness',\n",
    "       'liveness', 'loudness', 'speechiness', 'tempo', 'time_signature','popularity','star']]"
   ]
  },
  {
   "cell_type": "code",
   "execution_count": 6,
   "id": "40d5ed02-3743-411d-b4b7-24831bb6f3b1",
   "metadata": {},
   "outputs": [],
   "source": [
    "warnings.filterwarnings('ignore')\n",
    "#Encoding for hotness\n",
    "df_new.loc[(df_new['popularity'] >= 80), 'hotness'] = 5\n",
    "df_new.loc[(df_new['popularity'] < 80) & (df_new['popularity'] >= 60), 'hotness'] = 4\n",
    "df_new.loc[(df_new['popularity'] < 60) & (df_new['popularity'] >= 40), 'hotness'] = 3\n",
    "df_new.loc[(df_new['popularity'] < 40) & (df_new['popularity'] >= 20), 'hotness'] = 2\n",
    "df_new.loc[(df_new['popularity'] < 20) , 'hotness'] = 1\n"
   ]
  },
  {
   "cell_type": "code",
   "execution_count": 7,
   "id": "92373c1d-6831-4e2c-9973-d6d098186767",
   "metadata": {},
   "outputs": [],
   "source": [
    "hotness = df_new[['hotness']].copy()\n",
    "df_new = df_new.drop(columns= ['popularity','hotness','name', 'album', 'artist', 'release_date'],axis = 1)"
   ]
  },
  {
   "cell_type": "code",
   "execution_count": 8,
   "id": "d3edbb64-dd02-416e-b29b-5812085f9ca7",
   "metadata": {},
   "outputs": [
    {
     "data": {
      "text/plain": [
       "length              0\n",
       "danceability        0\n",
       "acousticness        0\n",
       "energy              0\n",
       "instrumentalness    0\n",
       "liveness            0\n",
       "loudness            0\n",
       "speechiness         0\n",
       "tempo               0\n",
       "time_signature      0\n",
       "star                0\n",
       "dtype: int64"
      ]
     },
     "execution_count": 8,
     "metadata": {},
     "output_type": "execute_result"
    }
   ],
   "source": [
    "df_new.isna().sum()"
   ]
  },
  {
   "cell_type": "code",
   "execution_count": 9,
   "id": "1746f210-8870-4fb8-8db8-f647537c81cf",
   "metadata": {},
   "outputs": [
    {
     "data": {
      "text/html": [
       "<div>\n",
       "<style scoped>\n",
       "    .dataframe tbody tr th:only-of-type {\n",
       "        vertical-align: middle;\n",
       "    }\n",
       "\n",
       "    .dataframe tbody tr th {\n",
       "        vertical-align: top;\n",
       "    }\n",
       "\n",
       "    .dataframe thead th {\n",
       "        text-align: right;\n",
       "    }\n",
       "</style>\n",
       "<table border=\"1\" class=\"dataframe\">\n",
       "  <thead>\n",
       "    <tr style=\"text-align: right;\">\n",
       "      <th></th>\n",
       "      <th>length</th>\n",
       "      <th>danceability</th>\n",
       "      <th>acousticness</th>\n",
       "      <th>energy</th>\n",
       "      <th>instrumentalness</th>\n",
       "      <th>liveness</th>\n",
       "      <th>loudness</th>\n",
       "      <th>speechiness</th>\n",
       "      <th>tempo</th>\n",
       "      <th>time_signature</th>\n",
       "      <th>star</th>\n",
       "      <th>hotness</th>\n",
       "    </tr>\n",
       "  </thead>\n",
       "  <tbody>\n",
       "    <tr>\n",
       "      <th>0</th>\n",
       "      <td>171360</td>\n",
       "      <td>0.771</td>\n",
       "      <td>0.00929</td>\n",
       "      <td>0.671</td>\n",
       "      <td>0.000000</td>\n",
       "      <td>0.0637</td>\n",
       "      <td>-5.617</td>\n",
       "      <td>0.0553</td>\n",
       "      <td>85.026</td>\n",
       "      <td>4</td>\n",
       "      <td>True</td>\n",
       "      <td>5.0</td>\n",
       "    </tr>\n",
       "    <tr>\n",
       "      <th>1</th>\n",
       "      <td>207320</td>\n",
       "      <td>0.717</td>\n",
       "      <td>0.22900</td>\n",
       "      <td>0.653</td>\n",
       "      <td>0.000000</td>\n",
       "      <td>0.1010</td>\n",
       "      <td>-5.634</td>\n",
       "      <td>0.0658</td>\n",
       "      <td>106.966</td>\n",
       "      <td>4</td>\n",
       "      <td>True</td>\n",
       "      <td>5.0</td>\n",
       "    </tr>\n",
       "    <tr>\n",
       "      <th>2</th>\n",
       "      <td>190066</td>\n",
       "      <td>0.554</td>\n",
       "      <td>0.23000</td>\n",
       "      <td>0.498</td>\n",
       "      <td>0.000006</td>\n",
       "      <td>0.7950</td>\n",
       "      <td>-8.866</td>\n",
       "      <td>0.0685</td>\n",
       "      <td>79.635</td>\n",
       "      <td>4</td>\n",
       "      <td>False</td>\n",
       "      <td>5.0</td>\n",
       "    </tr>\n",
       "    <tr>\n",
       "      <th>3</th>\n",
       "      <td>206458</td>\n",
       "      <td>0.488</td>\n",
       "      <td>0.55600</td>\n",
       "      <td>0.343</td>\n",
       "      <td>0.000000</td>\n",
       "      <td>0.2100</td>\n",
       "      <td>-8.985</td>\n",
       "      <td>0.0436</td>\n",
       "      <td>102.819</td>\n",
       "      <td>4</td>\n",
       "      <td>False</td>\n",
       "      <td>5.0</td>\n",
       "    </tr>\n",
       "    <tr>\n",
       "      <th>4</th>\n",
       "      <td>190946</td>\n",
       "      <td>0.579</td>\n",
       "      <td>0.19300</td>\n",
       "      <td>0.904</td>\n",
       "      <td>0.000000</td>\n",
       "      <td>0.0640</td>\n",
       "      <td>-2.729</td>\n",
       "      <td>0.0618</td>\n",
       "      <td>82.014</td>\n",
       "      <td>4</td>\n",
       "      <td>False</td>\n",
       "      <td>5.0</td>\n",
       "    </tr>\n",
       "    <tr>\n",
       "      <th>5</th>\n",
       "      <td>231266</td>\n",
       "      <td>0.680</td>\n",
       "      <td>0.33100</td>\n",
       "      <td>0.578</td>\n",
       "      <td>0.000000</td>\n",
       "      <td>0.1350</td>\n",
       "      <td>-5.804</td>\n",
       "      <td>0.0400</td>\n",
       "      <td>145.038</td>\n",
       "      <td>4</td>\n",
       "      <td>False</td>\n",
       "      <td>5.0</td>\n",
       "    </tr>\n",
       "    <tr>\n",
       "      <th>6</th>\n",
       "      <td>240050</td>\n",
       "      <td>0.623</td>\n",
       "      <td>0.32800</td>\n",
       "      <td>0.692</td>\n",
       "      <td>0.000000</td>\n",
       "      <td>0.1530</td>\n",
       "      <td>-5.122</td>\n",
       "      <td>0.0504</td>\n",
       "      <td>79.899</td>\n",
       "      <td>4</td>\n",
       "      <td>False</td>\n",
       "      <td>5.0</td>\n",
       "    </tr>\n",
       "    <tr>\n",
       "      <th>7</th>\n",
       "      <td>181026</td>\n",
       "      <td>0.842</td>\n",
       "      <td>0.04270</td>\n",
       "      <td>0.734</td>\n",
       "      <td>0.000000</td>\n",
       "      <td>0.1060</td>\n",
       "      <td>-5.065</td>\n",
       "      <td>0.0588</td>\n",
       "      <td>137.958</td>\n",
       "      <td>4</td>\n",
       "      <td>False</td>\n",
       "      <td>5.0</td>\n",
       "    </tr>\n",
       "    <tr>\n",
       "      <th>8</th>\n",
       "      <td>157605</td>\n",
       "      <td>0.880</td>\n",
       "      <td>0.17700</td>\n",
       "      <td>0.751</td>\n",
       "      <td>0.000064</td>\n",
       "      <td>0.1060</td>\n",
       "      <td>-4.258</td>\n",
       "      <td>0.0874</td>\n",
       "      <td>117.948</td>\n",
       "      <td>4</td>\n",
       "      <td>False</td>\n",
       "      <td>5.0</td>\n",
       "    </tr>\n",
       "    <tr>\n",
       "      <th>9</th>\n",
       "      <td>180522</td>\n",
       "      <td>0.889</td>\n",
       "      <td>0.25900</td>\n",
       "      <td>0.496</td>\n",
       "      <td>0.000000</td>\n",
       "      <td>0.2520</td>\n",
       "      <td>-6.365</td>\n",
       "      <td>0.0905</td>\n",
       "      <td>86.003</td>\n",
       "      <td>4</td>\n",
       "      <td>False</td>\n",
       "      <td>5.0</td>\n",
       "    </tr>\n",
       "  </tbody>\n",
       "</table>\n",
       "</div>"
      ],
      "text/plain": [
       "   length  danceability  acousticness  energy  instrumentalness  liveness  \\\n",
       "0  171360         0.771       0.00929   0.671          0.000000    0.0637   \n",
       "1  207320         0.717       0.22900   0.653          0.000000    0.1010   \n",
       "2  190066         0.554       0.23000   0.498          0.000006    0.7950   \n",
       "3  206458         0.488       0.55600   0.343          0.000000    0.2100   \n",
       "4  190946         0.579       0.19300   0.904          0.000000    0.0640   \n",
       "5  231266         0.680       0.33100   0.578          0.000000    0.1350   \n",
       "6  240050         0.623       0.32800   0.692          0.000000    0.1530   \n",
       "7  181026         0.842       0.04270   0.734          0.000000    0.1060   \n",
       "8  157605         0.880       0.17700   0.751          0.000064    0.1060   \n",
       "9  180522         0.889       0.25900   0.496          0.000000    0.2520   \n",
       "\n",
       "   loudness  speechiness    tempo  time_signature   star  hotness  \n",
       "0    -5.617       0.0553   85.026               4   True      5.0  \n",
       "1    -5.634       0.0658  106.966               4   True      5.0  \n",
       "2    -8.866       0.0685   79.635               4  False      5.0  \n",
       "3    -8.985       0.0436  102.819               4  False      5.0  \n",
       "4    -2.729       0.0618   82.014               4  False      5.0  \n",
       "5    -5.804       0.0400  145.038               4  False      5.0  \n",
       "6    -5.122       0.0504   79.899               4  False      5.0  \n",
       "7    -5.065       0.0588  137.958               4  False      5.0  \n",
       "8    -4.258       0.0874  117.948               4  False      5.0  \n",
       "9    -6.365       0.0905   86.003               4  False      5.0  "
      ]
     },
     "execution_count": 9,
     "metadata": {},
     "output_type": "execute_result"
    }
   ],
   "source": [
    "#merge data\n",
    "df_new = pd.concat([df_new, hotness], axis  =1)\n",
    "df_new.head(10)"
   ]
  },
  {
   "cell_type": "markdown",
   "id": "8faa047c-0bf8-4ac2-967c-9ba92a72c522",
   "metadata": {},
   "source": [
    "#### Visualiation some columns"
   ]
  },
  {
   "cell_type": "code",
   "execution_count": 10,
   "id": "c799aeeb-8f13-4cf8-b5dd-3b240bb27095",
   "metadata": {},
   "outputs": [
    {
     "data": {
      "text/plain": [
       "hotness\n",
       "4.0    1139\n",
       "3.0     570\n",
       "5.0     530\n",
       "1.0     379\n",
       "2.0     174\n",
       "Name: count, dtype: int64"
      ]
     },
     "execution_count": 10,
     "metadata": {},
     "output_type": "execute_result"
    }
   ],
   "source": [
    "df_new['hotness'].value_counts()\n"
   ]
  },
  {
   "cell_type": "code",
   "execution_count": 11,
   "id": "290808a5-e2ac-42a2-86fc-3901e137bc43",
   "metadata": {},
   "outputs": [
    {
     "data": {
      "text/plain": [
       "Text(0.5, 1.0, 'Target variable count plot')"
      ]
     },
     "execution_count": 11,
     "metadata": {},
     "output_type": "execute_result"
    },
    {
     "data": {
      "image/png": "[encoded data removed]",
      "text/plain": [
       "<Figure size 640x480 with 1 Axes>"
      ]
     },
     "metadata": {},
     "output_type": "display_data"
    }
   ],
   "source": [
    "num_bins = 100\n",
    "sns.histplot(data = df_new, x = 'hotness', hue = 'hotness'\n",
    "            ,discrete= True, shrink= 0.8)\n",
    "plt.xlabel(\"Hotness\")\n",
    "plt.ylabel(\"Count of Values\")\n",
    "plt.title(\"Target variable count plot\")\n"
   ]
  },
  {
   "cell_type": "code",
   "execution_count": 12,
   "id": "f866ff4c-6fca-4d40-9ade-369dbf1db660",
   "metadata": {},
   "outputs": [],
   "source": [
    "# Saving processed data for later use\n",
    "df_new.to_csv(\"../data/processed_data.csv\", index= False)"
   ]
  },
  {
   "cell_type": "markdown",
   "id": "a2e95ad6-2e70-43f0-b00d-fb134cbf05a1",
   "metadata": {},
   "source": [
    "### IMPORT LIBRARY FOR MODEL"
   ]
  },
  {
   "cell_type": "code",
   "execution_count": 13,
   "id": "6ad34f95-7a40-4f1e-85b5-6a4d2f8150bd",
   "metadata": {},
   "outputs": [],
   "source": [
    "from sklearn.model_selection import train_test_split\n",
    "from sklearn.ensemble import RandomForestClassifier\n",
    "from sklearn.metrics import confusion_matrix\n",
    "from sklearn.metrics import accuracy_score\n",
    "from sklearn.model_selection import cross_val_score\n",
    "from sklearn.metrics import classification_report"
   ]
  },
  {
   "cell_type": "code",
   "execution_count": 14,
   "id": "82f9ded8-3f7e-4a25-8b69-a59e5ca269f7",
   "metadata": {},
   "outputs": [],
   "source": [
    "X = df_new.iloc[:,:12]\n",
    "y = df_new.iloc[:,-1]"
   ]
  },
  {
   "cell_type": "code",
   "execution_count": 15,
   "id": "97329893-0aec-4773-a2fd-60a0e5a6244e",
   "metadata": {},
   "outputs": [],
   "source": [
    "#Split train and test dataset\n",
    "X_train, X_test, y_train, y_test = train_test_split(X,y, random_state= 99)\n"
   ]
  },
  {
   "cell_type": "markdown",
   "id": "b404306a-6e2a-4a19-9128-a9dadd2aff83",
   "metadata": {},
   "source": [
    "### MODEL 1: RANDOM FOREST CLASSIFIER"
   ]
  },
  {
   "cell_type": "markdown",
   "id": "a09c23e8-111f-48c1-8182-89fcd1d71b00",
   "metadata": {},
   "source": [
    "#### BUILD MODEL"
   ]
  },
  {
   "cell_type": "code",
   "execution_count": 16,
   "id": "543bd7c0-aa25-4aa7-9a8c-a46f92a2aff8",
   "metadata": {},
   "outputs": [],
   "source": [
    "#Create model\n",
    "clf = RandomForestClassifier(criterion= \"gini\",\n",
    "                             max_depth= 8,\n",
    "                             n_estimators = 5,\n",
    "                             bootstrap=True,\n",
    "                             random_state= 5)"
   ]
  },
  {
   "cell_type": "code",
   "execution_count": 17,
   "id": "bbcc82a1-56ad-4a57-8972-2292f0c7014b",
   "metadata": {},
   "outputs": [
    {
     "data": {
      "text/html": [
       "<style>#sk-container-id-1 {color: black;}#sk-container-id-1 pre{padding: 0;}#sk-container-id-1 div.sk-toggleable {background-color: white;}#sk-container-id-1 label.sk-toggleable__label {cursor: pointer;display: block;width: 100%;margin-bottom: 0;padding: 0.3em;box-sizing: border-box;text-align: center;}#sk-container-id-1 label.sk-toggleable__label-arrow:before {content: \"▸\";float: left;margin-right: 0.25em;color: #696969;}#sk-container-id-1 label.sk-toggleable__label-arrow:hover:before {color: black;}#sk-container-id-1 div.sk-estimator:hover label.sk-toggleable__label-arrow:before {color: black;}#sk-container-id-1 div.sk-toggleable__content {max-height: 0;max-width: 0;overflow: hidden;text-align: left;background-color: #f0f8ff;}#sk-container-id-1 div.sk-toggleable__content pre {margin: 0.2em;color: black;border-radius: 0.25em;background-color: #f0f8ff;}#sk-container-id-1 input.sk-toggleable__control:checked~div.sk-toggleable__content {max-height: 200px;max-width: 100%;overflow: auto;}#sk-container-id-1 input.sk-toggleable__control:checked~label.sk-toggleable__label-arrow:before {content: \"▾\";}#sk-container-id-1 div.sk-estimator input.sk-toggleable__control:checked~label.sk-toggleable__label {background-color: #d4ebff;}#sk-container-id-1 div.sk-label input.sk-toggleable__control:checked~label.sk-toggleable__label {background-color: #d4ebff;}#sk-container-id-1 input.sk-hidden--visually {border: 0;clip: rect(1px 1px 1px 1px);clip: rect(1px, 1px, 1px, 1px);height: 1px;margin: -1px;overflow: hidden;padding: 0;position: absolute;width: 1px;}#sk-container-id-1 div.sk-estimator {font-family: monospace;background-color: #f0f8ff;border: 1px dotted black;border-radius: 0.25em;box-sizing: border-box;margin-bottom: 0.5em;}#sk-container-id-1 div.sk-estimator:hover {background-color: #d4ebff;}#sk-container-id-1 div.sk-parallel-item::after {content: \"\";width: 100%;border-bottom: 1px solid gray;flex-grow: 1;}#sk-container-id-1 div.sk-label:hover label.sk-toggleable__label {background-color: #d4ebff;}#sk-container-id-1 div.sk-serial::before {content: \"\";position: absolute;border-left: 1px solid gray;box-sizing: border-box;top: 0;bottom: 0;left: 50%;z-index: 0;}#sk-container-id-1 div.sk-serial {display: flex;flex-direction: column;align-items: center;background-color: white;padding-right: 0.2em;padding-left: 0.2em;position: relative;}#sk-container-id-1 div.sk-item {position: relative;z-index: 1;}#sk-container-id-1 div.sk-parallel {display: flex;align-items: stretch;justify-content: center;background-color: white;position: relative;}#sk-container-id-1 div.sk-item::before, #sk-container-id-1 div.sk-parallel-item::before {content: \"\";position: absolute;border-left: 1px solid gray;box-sizing: border-box;top: 0;bottom: 0;left: 50%;z-index: -1;}#sk-container-id-1 div.sk-parallel-item {display: flex;flex-direction: column;z-index: 1;position: relative;background-color: white;}#sk-container-id-1 div.sk-parallel-item:first-child::after {align-self: flex-end;width: 50%;}#sk-container-id-1 div.sk-parallel-item:last-child::after {align-self: flex-start;width: 50%;}#sk-container-id-1 div.sk-parallel-item:only-child::after {width: 0;}#sk-container-id-1 div.sk-dashed-wrapped {border: 1px dashed gray;margin: 0 0.4em 0.5em 0.4em;box-sizing: border-box;padding-bottom: 0.4em;background-color: white;}#sk-container-id-1 div.sk-label label {font-family: monospace;font-weight: bold;display: inline-block;line-height: 1.2em;}#sk-container-id-1 div.sk-label-container {text-align: center;}#sk-container-id-1 div.sk-container {/* jupyter's `normalize.less` sets `[hidden] { display: none; }` but bootstrap.min.css set `[hidden] { display: none !important; }` so we also need the `!important` here to be able to override the default hidden behavior on the sphinx rendered scikit-learn.org. See: https://github.com/scikit-learn/scikit-learn/issues/21755 */display: inline-block !important;position: relative;}#sk-container-id-1 div.sk-text-repr-fallback {display: none;}</style><div id=\"sk-container-id-1\" class=\"sk-top-container\"><div class=\"sk-text-repr-fallback\"><pre>RandomForestClassifier(max_depth=8, n_estimators=5, random_state=5)</pre><b>In a Jupyter environment, please rerun this cell to show the HTML representation or trust the notebook. <br />On GitHub, the HTML representation is unable to render, please try loading this page with nbviewer.org.</b></div><div class=\"sk-container\" hidden><div class=\"sk-item\"><div class=\"sk-estimator sk-toggleable\"><input class=\"sk-toggleable__control sk-hidden--visually\" id=\"sk-estimator-id-1\" type=\"checkbox\" checked><label for=\"sk-estimator-id-1\" class=\"sk-toggleable__label sk-toggleable__label-arrow\">RandomForestClassifier</label><div class=\"sk-toggleable__content\"><pre>RandomForestClassifier(max_depth=8, n_estimators=5, random_state=5)</pre></div></div></div></div></div>"
      ],
      "text/plain": [
       "RandomForestClassifier(max_depth=8, n_estimators=5, random_state=5)"
      ]
     },
     "execution_count": 17,
     "metadata": {},
     "output_type": "execute_result"
    }
   ],
   "source": [
    "clf.fit(X_train,y_train)"
   ]
  },
  {
   "cell_type": "code",
   "execution_count": 18,
   "id": "1f64dd55-0153-408f-8eef-62a97461af9d",
   "metadata": {},
   "outputs": [
    {
     "data": {
      "text/plain": [
       "array([2.34129505e-02, 2.22062144e-02, 3.10463937e-02, 3.28548457e-02,\n",
       "       1.67039989e-02, 2.38157788e-02, 2.87110083e-02, 2.83375986e-02,\n",
       "       1.61191303e-02, 4.13089036e-04, 3.16806071e-03, 7.73210931e-01])"
      ]
     },
     "execution_count": 18,
     "metadata": {},
     "output_type": "execute_result"
    }
   ],
   "source": [
    "clf.feature_importances_"
   ]
  },
  {
   "cell_type": "markdown",
   "id": "7369ad2b-f974-4cc4-b646-ede3f2b7c930",
   "metadata": {},
   "source": [
    "#### Testing"
   ]
  },
  {
   "cell_type": "code",
   "execution_count": 19,
   "id": "2824c3de-fe86-4975-b8b7-f2998193ac62",
   "metadata": {},
   "outputs": [],
   "source": [
    "y_pred = clf.predict(X_test)"
   ]
  },
  {
   "cell_type": "code",
   "execution_count": 20,
   "id": "f4b3c145-9ebd-4759-9900-7e9aa56e391b",
   "metadata": {},
   "outputs": [
    {
     "data": {
      "text/plain": [
       "array([3., 4., 5., 1., 4., 5., 5., 2., 4., 5., 1., 4., 4., 3., 3., 5., 4.,\n",
       "       5., 3., 4., 3., 3., 5., 4., 1., 1., 4., 4., 2., 4., 4., 4., 4., 5.,\n",
       "       4., 3., 4., 5., 3., 5., 1., 3., 4., 4., 3., 3., 2., 3., 3., 4., 4.,\n",
       "       4., 3., 4., 1., 5., 3., 5., 4., 3., 4., 1., 4., 2., 3., 3., 4., 4.,\n",
       "       4., 3., 5., 3., 3., 2., 5., 4., 4., 3., 4., 4., 1., 2., 1., 4., 5.,\n",
       "       3., 5., 3., 5., 4., 1., 5., 5., 5., 5., 4., 5., 1., 1., 3., 1., 2.,\n",
       "       3., 5., 3., 2., 4., 5., 5., 5., 3., 2., 4., 3., 5., 5., 4., 4., 5.,\n",
       "       1., 4., 4., 1., 1., 3., 4., 5., 4., 2., 4., 4., 4., 4., 4., 2., 4.,\n",
       "       3., 5., 1., 4., 1., 1., 3., 4., 1., 5., 3., 4., 5., 4., 5., 1., 4.,\n",
       "       4., 5., 4., 5., 4., 4., 4., 4., 3., 5., 5., 3., 4., 5., 4., 5., 4.,\n",
       "       4., 4., 5., 1., 1., 5., 3., 4., 3., 3., 4., 5., 4., 3., 3., 4., 3.,\n",
       "       5., 1., 3., 4., 1., 5., 3., 1., 4., 4., 4., 1., 1., 4., 4., 3., 4.,\n",
       "       4., 3., 4., 5., 4., 5., 1., 3., 4., 5., 4., 4., 1., 3., 4., 4., 1.,\n",
       "       4., 3., 2., 4., 4., 4., 4., 3., 3., 1., 2., 5., 5., 1., 3., 3., 4.,\n",
       "       3., 1., 3., 4., 5., 3., 1., 4., 4., 4., 4., 1., 4., 4., 3., 4., 3.,\n",
       "       5., 4., 3., 3., 5., 5., 3., 1., 4., 4., 4., 5., 3., 4., 4., 5., 4.,\n",
       "       4., 3., 5., 4., 4., 3., 5., 3., 3., 4., 1., 4., 3., 4., 4., 1., 5.,\n",
       "       4., 4., 5., 2., 2., 4., 4., 4., 2., 4., 1., 3., 3., 1., 3., 4., 4.,\n",
       "       4., 3., 2., 5., 2., 4., 4., 3., 5., 4., 2., 4., 5., 1., 1., 4., 4.,\n",
       "       4., 3., 3., 1., 5., 4., 4., 4., 4., 2., 5., 4., 5., 4., 1., 3., 1.,\n",
       "       5., 4., 5., 4., 5., 4., 1., 4., 4., 4., 1., 5., 1., 5., 3., 4., 4.,\n",
       "       3., 3., 1., 4., 5., 1., 4., 4., 3., 2., 3., 4., 3., 4., 5., 3., 4.,\n",
       "       5., 4., 4., 4., 3., 4., 4., 4., 2., 4., 1., 4., 3., 4., 1., 5., 4.,\n",
       "       4., 4., 4., 5., 3., 4., 5., 4., 4., 3., 5., 3., 4., 3., 4., 1., 4.,\n",
       "       4., 3., 3., 2., 1., 1., 4., 4., 2., 3., 1., 2., 3., 4., 1., 4., 2.,\n",
       "       4., 4., 4., 3., 5., 3., 5., 1., 4., 1., 4., 4., 4., 4., 4., 4., 4.,\n",
       "       4., 1., 3., 4., 5., 1., 4., 3., 1., 1., 1., 5., 4., 3., 4., 4., 3.,\n",
       "       4., 4., 1., 4., 1., 4., 4., 1., 4., 3., 4., 4., 3., 3., 4., 5., 1.,\n",
       "       4., 5., 1., 4., 4., 3., 4., 3., 1., 4., 5., 4., 3., 1., 4., 4., 5.,\n",
       "       4., 4., 1., 2., 3., 2., 5., 4., 4., 5., 5., 1., 1., 5., 2., 3., 4.,\n",
       "       4., 5., 4., 3., 5., 1., 4., 5., 4., 3., 1., 1., 3., 4., 2., 3., 4.,\n",
       "       4., 3., 4., 4., 5., 4., 4., 1., 4., 2., 3., 5., 1., 3., 1., 5., 3.,\n",
       "       3., 3., 4., 5., 4., 5., 1., 4., 3., 4., 4., 4., 3., 1., 4., 4., 1.,\n",
       "       4., 4., 4., 3., 4., 1., 4., 5., 3., 4., 4., 5., 2., 3., 5., 4., 3.,\n",
       "       3., 4., 4., 3., 5., 4., 3., 4., 5., 3., 1., 3., 3., 2., 3., 5., 1.,\n",
       "       3., 5., 5., 4., 5., 2., 3., 3., 4., 4., 4., 4., 4., 1., 1., 4., 3.,\n",
       "       1., 5., 5., 5., 4., 4., 1., 1., 3., 4., 5., 5., 4., 1., 3., 4., 1.,\n",
       "       3., 4., 5., 4., 2., 1., 4., 3., 4., 4., 3., 1., 4., 3., 5., 1., 4.,\n",
       "       3., 2., 4., 4., 4., 5., 4., 4., 3., 5., 5., 3., 1., 5., 1., 1., 4.,\n",
       "       2., 3., 4., 5., 5., 4., 5., 5., 4., 4., 4., 1., 3., 4., 4., 4., 3.,\n",
       "       4., 4., 5., 2., 2., 5., 1., 4., 4., 1., 4., 4., 5., 4., 4., 1., 5.,\n",
       "       3.])"
      ]
     },
     "execution_count": 20,
     "metadata": {},
     "output_type": "execute_result"
    }
   ],
   "source": [
    "y_pred"
   ]
  },
  {
   "cell_type": "code",
   "execution_count": 21,
   "id": "cdf925b6-cfe3-4712-aa38-34a93ed18dba",
   "metadata": {},
   "outputs": [
    {
     "data": {
      "text/plain": [
       "array([[104,   1,   1,   1,   0],\n",
       "       [  0,  37,   0,   0,   0],\n",
       "       [  0,   1, 144,   0,   0],\n",
       "       [  0,   0,   0, 283,   4],\n",
       "       [  0,   0,   0,   0, 122]], dtype=int64)"
      ]
     },
     "execution_count": 21,
     "metadata": {},
     "output_type": "execute_result"
    }
   ],
   "source": [
    "confusion_matrix(y_test, y_pred)"
   ]
  },
  {
   "cell_type": "code",
   "execution_count": 22,
   "id": "3af99467-94f2-43f9-a1eb-0f9a6d7a5f5e",
   "metadata": {},
   "outputs": [
    {
     "name": "stdout",
     "output_type": "stream",
     "text": [
      "Accuracy score of Random forest model: 0.9885386819484241\n"
     ]
    }
   ],
   "source": [
    "print(\"Accuracy score of Random forest model:\" , accuracy_score(y_test, y_pred))"
   ]
  },
  {
   "cell_type": "code",
   "execution_count": 23,
   "id": "80107c2f-c18c-4995-ba0e-bb008b4675ac",
   "metadata": {},
   "outputs": [
    {
     "data": {
      "text/plain": [
       "array([0.98571429, 0.96666667, 0.98571429, 0.9952381 , 0.99043062,\n",
       "       0.97607656, 0.96650718, 0.94736842, 1.        , 0.97129187])"
      ]
     },
     "execution_count": 23,
     "metadata": {},
     "output_type": "execute_result"
    }
   ],
   "source": [
    "cross_val_score(clf,X_train,y_train,cv = 10)"
   ]
  },
  {
   "cell_type": "code",
   "execution_count": 24,
   "id": "67631ad6-02b4-473a-b799-58facb3852f2",
   "metadata": {},
   "outputs": [
    {
     "name": "stdout",
     "output_type": "stream",
     "text": [
      "              precision    recall  f1-score   support\n",
      "\n",
      "         1.0       0.97      1.00      0.99       104\n",
      "         2.0       1.00      0.95      0.97        39\n",
      "         3.0       0.99      0.99      0.99       145\n",
      "         4.0       0.99      1.00      0.99       284\n",
      "         5.0       1.00      0.97      0.98       126\n",
      "\n",
      "    accuracy                           0.99       698\n",
      "   macro avg       0.99      0.98      0.99       698\n",
      "weighted avg       0.99      0.99      0.99       698\n",
      "\n"
     ]
    }
   ],
   "source": [
    "print(classification_report(y_pred, y_test))"
   ]
  },
  {
   "cell_type": "markdown",
   "id": "65e0241e-3ce0-4ccf-ae5a-dc47751469f9",
   "metadata": {},
   "source": [
    "### MODEL 2: NAIVE BAYES CLASSIFIER"
   ]
  },
  {
   "cell_type": "markdown",
   "id": "979248b2-e1d1-40cb-b732-fab5dd4bdc3b",
   "metadata": {},
   "source": [
    "#### Necessary library"
   ]
  },
  {
   "cell_type": "code",
   "execution_count": 25,
   "id": "17c84998-b61e-468d-8b70-9e09c0507006",
   "metadata": {},
   "outputs": [],
   "source": [
    "from sklearn.naive_bayes import GaussianNB\n",
    "from sklearn.preprocessing import StandardScaler"
   ]
  },
  {
   "cell_type": "markdown",
   "id": "ebd25cc5-5ec3-4833-9af2-360cc40fe24b",
   "metadata": {},
   "source": [
    "#### Scale data"
   ]
  },
  {
   "cell_type": "code",
   "execution_count": 26,
   "id": "dd899e62-34f0-45b4-9f11-ad027cb4c72a",
   "metadata": {},
   "outputs": [],
   "source": [
    "scaler = StandardScaler()\n",
    "X_train_scaled = scaler.fit_transform(X_train)\n",
    "X_test_scaled = scaler.transform(X_test)"
   ]
  },
  {
   "cell_type": "markdown",
   "id": "961b11c9-a7a9-4b87-a3db-be679f026537",
   "metadata": {},
   "source": [
    "#### Build model"
   ]
  },
  {
   "cell_type": "code",
   "execution_count": 27,
   "id": "03426f32-aa89-472c-87aa-f58ca5f8685f",
   "metadata": {},
   "outputs": [
    {
     "data": {
      "text/html": [
       "<style>#sk-container-id-2 {color: black;}#sk-container-id-2 pre{padding: 0;}#sk-container-id-2 div.sk-toggleable {background-color: white;}#sk-container-id-2 label.sk-toggleable__label {cursor: pointer;display: block;width: 100%;margin-bottom: 0;padding: 0.3em;box-sizing: border-box;text-align: center;}#sk-container-id-2 label.sk-toggleable__label-arrow:before {content: \"▸\";float: left;margin-right: 0.25em;color: #696969;}#sk-container-id-2 label.sk-toggleable__label-arrow:hover:before {color: black;}#sk-container-id-2 div.sk-estimator:hover label.sk-toggleable__label-arrow:before {color: black;}#sk-container-id-2 div.sk-toggleable__content {max-height: 0;max-width: 0;overflow: hidden;text-align: left;background-color: #f0f8ff;}#sk-container-id-2 div.sk-toggleable__content pre {margin: 0.2em;color: black;border-radius: 0.25em;background-color: #f0f8ff;}#sk-container-id-2 input.sk-toggleable__control:checked~div.sk-toggleable__content {max-height: 200px;max-width: 100%;overflow: auto;}#sk-container-id-2 input.sk-toggleable__control:checked~label.sk-toggleable__label-arrow:before {content: \"▾\";}#sk-container-id-2 div.sk-estimator input.sk-toggleable__control:checked~label.sk-toggleable__label {background-color: #d4ebff;}#sk-container-id-2 div.sk-label input.sk-toggleable__control:checked~label.sk-toggleable__label {background-color: #d4ebff;}#sk-container-id-2 input.sk-hidden--visually {border: 0;clip: rect(1px 1px 1px 1px);clip: rect(1px, 1px, 1px, 1px);height: 1px;margin: -1px;overflow: hidden;padding: 0;position: absolute;width: 1px;}#sk-container-id-2 div.sk-estimator {font-family: monospace;background-color: #f0f8ff;border: 1px dotted black;border-radius: 0.25em;box-sizing: border-box;margin-bottom: 0.5em;}#sk-container-id-2 div.sk-estimator:hover {background-color: #d4ebff;}#sk-container-id-2 div.sk-parallel-item::after {content: \"\";width: 100%;border-bottom: 1px solid gray;flex-grow: 1;}#sk-container-id-2 div.sk-label:hover label.sk-toggleable__label {background-color: #d4ebff;}#sk-container-id-2 div.sk-serial::before {content: \"\";position: absolute;border-left: 1px solid gray;box-sizing: border-box;top: 0;bottom: 0;left: 50%;z-index: 0;}#sk-container-id-2 div.sk-serial {display: flex;flex-direction: column;align-items: center;background-color: white;padding-right: 0.2em;padding-left: 0.2em;position: relative;}#sk-container-id-2 div.sk-item {position: relative;z-index: 1;}#sk-container-id-2 div.sk-parallel {display: flex;align-items: stretch;justify-content: center;background-color: white;position: relative;}#sk-container-id-2 div.sk-item::before, #sk-container-id-2 div.sk-parallel-item::before {content: \"\";position: absolute;border-left: 1px solid gray;box-sizing: border-box;top: 0;bottom: 0;left: 50%;z-index: -1;}#sk-container-id-2 div.sk-parallel-item {display: flex;flex-direction: column;z-index: 1;position: relative;background-color: white;}#sk-container-id-2 div.sk-parallel-item:first-child::after {align-self: flex-end;width: 50%;}#sk-container-id-2 div.sk-parallel-item:last-child::after {align-self: flex-start;width: 50%;}#sk-container-id-2 div.sk-parallel-item:only-child::after {width: 0;}#sk-container-id-2 div.sk-dashed-wrapped {border: 1px dashed gray;margin: 0 0.4em 0.5em 0.4em;box-sizing: border-box;padding-bottom: 0.4em;background-color: white;}#sk-container-id-2 div.sk-label label {font-family: monospace;font-weight: bold;display: inline-block;line-height: 1.2em;}#sk-container-id-2 div.sk-label-container {text-align: center;}#sk-container-id-2 div.sk-container {/* jupyter's `normalize.less` sets `[hidden] { display: none; }` but bootstrap.min.css set `[hidden] { display: none !important; }` so we also need the `!important` here to be able to override the default hidden behavior on the sphinx rendered scikit-learn.org. See: https://github.com/scikit-learn/scikit-learn/issues/21755 */display: inline-block !important;position: relative;}#sk-container-id-2 div.sk-text-repr-fallback {display: none;}</style><div id=\"sk-container-id-2\" class=\"sk-top-container\"><div class=\"sk-text-repr-fallback\"><pre>GaussianNB()</pre><b>In a Jupyter environment, please rerun this cell to show the HTML representation or trust the notebook. <br />On GitHub, the HTML representation is unable to render, please try loading this page with nbviewer.org.</b></div><div class=\"sk-container\" hidden><div class=\"sk-item\"><div class=\"sk-estimator sk-toggleable\"><input class=\"sk-toggleable__control sk-hidden--visually\" id=\"sk-estimator-id-2\" type=\"checkbox\" checked><label for=\"sk-estimator-id-2\" class=\"sk-toggleable__label sk-toggleable__label-arrow\">GaussianNB</label><div class=\"sk-toggleable__content\"><pre>GaussianNB()</pre></div></div></div></div></div>"
      ],
      "text/plain": [
       "GaussianNB()"
      ]
     },
     "execution_count": 27,
     "metadata": {},
     "output_type": "execute_result"
    }
   ],
   "source": [
    "NBC = GaussianNB()\n",
    "NBC.fit(X_train, y_train)\n",
    "NBC_scaled = GaussianNB()\n",
    "NBC_scaled.fit(X_train_scaled, y_train)"
   ]
  },
  {
   "cell_type": "markdown",
   "id": "8d8cc371-6e92-4013-a02f-d8862344649d",
   "metadata": {},
   "source": [
    "#### Testing without scaled data"
   ]
  },
  {
   "cell_type": "code",
   "execution_count": 28,
   "id": "3baac0a5-deae-4c47-9a60-11e8bf1d7a74",
   "metadata": {},
   "outputs": [
    {
     "name": "stdout",
     "output_type": "stream",
     "text": [
      "Prediksi Naive Bayes :  [4. 2. 4. 1. 4. 4. 4. 2. 4. 4. 1. 4. 4. 4. 4. 4. 4. 4. 4. 4. 3. 4. 4. 4.\n",
      " 1. 1. 4. 4. 4. 4. 4. 4. 4. 4. 4. 4. 4. 4. 4. 4. 1. 4. 4. 4. 4. 4. 4. 4.\n",
      " 4. 4. 4. 4. 4. 2. 1. 4. 4. 4. 4. 4. 4. 1. 4. 4. 4. 4. 4. 2. 4. 4. 4. 4.\n",
      " 4. 4. 4. 4. 4. 4. 4. 4. 1. 4. 1. 4. 4. 4. 4. 3. 4. 4. 1. 4. 4. 4. 4. 4.\n",
      " 4. 1. 1. 4. 1. 2. 4. 4. 3. 2. 4. 4. 4. 4. 2. 4. 4. 4. 4. 4. 4. 4. 4. 1.\n",
      " 4. 4. 1. 1. 4. 4. 4. 4. 4. 4. 4. 4. 4. 2. 3. 4. 4. 4. 1. 4. 1. 1. 4. 4.\n",
      " 1. 4. 2. 2. 4. 4. 4. 1. 4. 4. 4. 4. 4. 4. 4. 4. 4. 4. 4. 4. 4. 4. 4. 4.\n",
      " 4. 4. 4. 4. 4. 1. 1. 4. 4. 2. 4. 4. 4. 4. 4. 4. 4. 4. 4. 4. 1. 4. 4. 1.\n",
      " 4. 4. 1. 4. 4. 4. 1. 1. 4. 4. 4. 4. 4. 4. 4. 4. 4. 4. 1. 3. 4. 4. 4. 4.\n",
      " 1. 3. 4. 4. 1. 4. 4. 3. 4. 4. 4. 4. 4. 4. 1. 4. 4. 4. 1. 4. 4. 4. 4. 3.\n",
      " 4. 4. 4. 4. 1. 4. 4. 4. 4. 1. 4. 4. 4. 4. 4. 4. 4. 4. 4. 4. 4. 3. 1. 4.\n",
      " 4. 4. 4. 4. 4. 4. 4. 4. 4. 4. 4. 4. 4. 4. 5. 4. 4. 4. 1. 4. 4. 4. 3. 1.\n",
      " 4. 4. 2. 4. 3. 3. 4. 4. 4. 4. 4. 1. 4. 2. 1. 4. 4. 4. 4. 4. 4. 4. 4. 4.\n",
      " 4. 4. 3. 4. 4. 3. 4. 1. 1. 4. 4. 2. 4. 4. 1. 4. 4. 4. 4. 4. 2. 4. 4. 4.\n",
      " 4. 1. 4. 1. 4. 4. 4. 4. 4. 4. 1. 4. 4. 4. 1. 4. 1. 4. 4. 4. 4. 4. 4. 1.\n",
      " 4. 4. 3. 4. 4. 4. 4. 4. 4. 4. 2. 4. 2. 4. 4. 3. 4. 4. 4. 3. 4. 4. 4. 4.\n",
      " 1. 4. 4. 4. 2. 4. 4. 4. 4. 4. 4. 4. 4. 4. 4. 2. 4. 4. 4. 4. 4. 4. 1. 4.\n",
      " 4. 4. 4. 1. 1. 1. 4. 4. 4. 4. 1. 4. 4. 4. 1. 4. 4. 3. 4. 4. 4. 4. 4. 4.\n",
      " 1. 4. 3. 4. 4. 4. 4. 4. 4. 4. 4. 1. 4. 4. 4. 1. 4. 4. 2. 1. 1. 4. 4. 4.\n",
      " 4. 4. 4. 1. 4. 1. 4. 1. 4. 4. 1. 4. 4. 4. 4. 4. 4. 4. 5. 3. 4. 4. 1. 4.\n",
      " 4. 4. 3. 4. 1. 4. 4. 4. 4. 1. 4. 4. 4. 4. 4. 1. 4. 4. 3. 4. 4. 4. 4. 4.\n",
      " 1. 1. 4. 4. 4. 4. 4. 4. 4. 4. 4. 1. 4. 4. 4. 4. 1. 1. 4. 4. 4. 4. 4. 4.\n",
      " 4. 4. 4. 4. 4. 4. 1. 4. 4. 4. 4. 1. 4. 1. 4. 4. 4. 4. 4. 4. 4. 4. 1. 4.\n",
      " 4. 4. 4. 3. 4. 1. 4. 4. 1. 4. 4. 4. 4. 4. 1. 4. 4. 3. 4. 4. 5. 4. 4. 4.\n",
      " 4. 4. 4. 4. 4. 4. 4. 4. 4. 4. 4. 4. 1. 4. 2. 4. 3. 4. 1. 4. 4. 4. 4. 4.\n",
      " 2. 4. 4. 4. 4. 4. 4. 4. 1. 1. 4. 4. 3. 4. 4. 4. 4. 4. 1. 1. 4. 4. 4. 4.\n",
      " 4. 1. 4. 4. 1. 4. 4. 4. 4. 4. 1. 4. 4. 4. 4. 4. 1. 4. 4. 4. 1. 4. 1. 2.\n",
      " 4. 4. 4. 4. 4. 4. 4. 4. 4. 4. 1. 4. 2. 1. 4. 4. 4. 4. 4. 4. 4. 4. 4. 4.\n",
      " 4. 4. 1. 4. 4. 4. 4. 4. 4. 4. 4. 4. 4. 4. 1. 4. 4. 1. 3. 4. 5. 4. 4. 1.\n",
      " 4. 4.]\n"
     ]
    }
   ],
   "source": [
    "NBC_predict = NBC.predict(X_test)\n",
    "print(\"Prediksi Naive Bayes : \",NBC_predict)"
   ]
  },
  {
   "cell_type": "code",
   "execution_count": 29,
   "id": "cf87a435-09bf-45ac-accf-2e0ae4a5e5c5",
   "metadata": {},
   "outputs": [
    {
     "data": {
      "text/plain": [
       "array([[ 99,   3,   5,   0,   0],\n",
       "       [  0,   6,   5,  26,   0],\n",
       "       [  0,   5,   8, 132,   0],\n",
       "       [  0,  10,   8, 269,   0],\n",
       "       [  0,   0,   1, 117,   4]], dtype=int64)"
      ]
     },
     "execution_count": 29,
     "metadata": {},
     "output_type": "execute_result"
    }
   ],
   "source": [
    "confusion_matrix(y_test, NBC_predict)"
   ]
  },
  {
   "cell_type": "code",
   "execution_count": 30,
   "id": "4a82f8ea-6324-4e8b-ac40-2e501677475f",
   "metadata": {},
   "outputs": [
    {
     "name": "stdout",
     "output_type": "stream",
     "text": [
      "Accuracy score of Naive Bayes without scaled: 0.5530085959885387\n"
     ]
    }
   ],
   "source": [
    "print(\"Accuracy score of Naive Bayes without scaled:\" , accuracy_score(y_test, NBC_predict))"
   ]
  },
  {
   "cell_type": "code",
   "execution_count": 31,
   "id": "3f48d3bc-4c8e-409d-9fe4-37c5513b71b2",
   "metadata": {},
   "outputs": [
    {
     "name": "stdout",
     "output_type": "stream",
     "text": [
      "              precision    recall  f1-score   support\n",
      "\n",
      "         1.0       0.93      1.00      0.96        99\n",
      "         2.0       0.16      0.25      0.20        24\n",
      "         3.0       0.06      0.30      0.09        27\n",
      "         4.0       0.94      0.49      0.65       544\n",
      "         5.0       0.03      1.00      0.06         4\n",
      "\n",
      "    accuracy                           0.55       698\n",
      "   macro avg       0.42      0.61      0.39       698\n",
      "weighted avg       0.87      0.55      0.65       698\n",
      "\n"
     ]
    }
   ],
   "source": [
    "print(classification_report(NBC_predict, y_test))"
   ]
  },
  {
   "cell_type": "markdown",
   "id": "2b02f849-a709-41e0-85aa-8ecedb6245dd",
   "metadata": {},
   "source": [
    "#### Test with scale data"
   ]
  },
  {
   "cell_type": "code",
   "execution_count": 32,
   "id": "90144b37-f56d-441e-bb70-b5ac7a17edde",
   "metadata": {},
   "outputs": [
    {
     "name": "stdout",
     "output_type": "stream",
     "text": [
      "Prediksi Naive Bayes :  [3. 4. 5. 1. 4. 5. 5. 2. 4. 5. 1. 4. 4. 3. 3. 5. 4. 5. 3. 4. 3. 3. 5. 4.\n",
      " 1. 1. 4. 4. 3. 4. 4. 4. 4. 4. 4. 3. 4. 5. 3. 5. 1. 3. 4. 4. 3. 3. 2. 3.\n",
      " 3. 4. 4. 4. 3. 4. 1. 5. 3. 5. 4. 3. 4. 1. 4. 2. 3. 3. 4. 4. 4. 3. 5. 3.\n",
      " 3. 2. 5. 4. 4. 3. 4. 4. 1. 2. 1. 4. 5. 3. 5. 3. 5. 4. 1. 5. 5. 5. 5. 4.\n",
      " 5. 1. 1. 3. 1. 2. 3. 5. 3. 2. 4. 5. 5. 5. 3. 2. 4. 3. 5. 5. 4. 4. 5. 1.\n",
      " 4. 4. 1. 1. 3. 4. 5. 4. 2. 4. 4. 4. 4. 4. 2. 4. 3. 5. 1. 4. 1. 1. 3. 4.\n",
      " 1. 5. 3. 4. 5. 4. 5. 1. 4. 4. 5. 4. 5. 4. 4. 4. 4. 3. 5. 5. 3. 4. 5. 4.\n",
      " 5. 4. 4. 4. 5. 1. 1. 5. 3. 4. 3. 3. 4. 5. 4. 3. 3. 4. 3. 5. 1. 3. 4. 1.\n",
      " 5. 3. 1. 4. 4. 4. 1. 1. 4. 4. 3. 4. 4. 3. 4. 5. 4. 5. 1. 3. 4. 5. 4. 4.\n",
      " 1. 3. 4. 4. 1. 4. 3. 2. 4. 4. 4. 4. 3. 3. 1. 2. 5. 5. 1. 3. 3. 4. 3. 1.\n",
      " 3. 4. 5. 3. 1. 4. 4. 4. 4. 1. 4. 4. 3. 4. 3. 5. 4. 3. 3. 5. 5. 3. 1. 4.\n",
      " 4. 4. 5. 3. 4. 4. 5. 4. 4. 3. 5. 4. 4. 3. 5. 3. 3. 4. 1. 4. 3. 4. 4. 1.\n",
      " 5. 4. 4. 5. 2. 2. 4. 4. 4. 2. 4. 1. 3. 3. 1. 3. 4. 4. 4. 3. 2. 5. 2. 4.\n",
      " 4. 3. 5. 4. 2. 4. 5. 1. 1. 4. 4. 4. 3. 3. 1. 5. 4. 4. 4. 4. 2. 5. 4. 5.\n",
      " 4. 1. 3. 1. 5. 4. 5. 4. 4. 4. 1. 4. 4. 4. 1. 5. 1. 5. 3. 4. 4. 3. 3. 1.\n",
      " 4. 5. 1. 4. 4. 3. 2. 3. 4. 3. 4. 5. 3. 4. 5. 4. 4. 4. 3. 4. 4. 4. 2. 4.\n",
      " 1. 4. 3. 4. 1. 5. 4. 4. 4. 4. 5. 3. 4. 5. 4. 4. 3. 5. 3. 4. 3. 4. 1. 4.\n",
      " 4. 3. 3. 1. 1. 1. 4. 4. 2. 3. 1. 2. 3. 4. 1. 4. 2. 4. 4. 4. 3. 5. 3. 5.\n",
      " 1. 4. 1. 4. 4. 4. 4. 4. 4. 4. 4. 1. 3. 4. 5. 1. 4. 3. 1. 1. 1. 4. 4. 3.\n",
      " 4. 4. 3. 1. 4. 1. 4. 1. 4. 4. 1. 4. 3. 4. 4. 3. 3. 4. 5. 1. 4. 5. 1. 4.\n",
      " 4. 3. 4. 3. 1. 4. 5. 4. 3. 1. 4. 4. 5. 4. 4. 1. 2. 3. 2. 5. 4. 4. 4. 5.\n",
      " 1. 1. 5. 2. 3. 4. 4. 5. 4. 3. 5. 1. 4. 5. 4. 3. 1. 1. 3. 4. 2. 3. 4. 4.\n",
      " 3. 4. 4. 5. 4. 4. 1. 4. 2. 3. 5. 1. 3. 1. 5. 3. 3. 3. 4. 5. 4. 5. 1. 4.\n",
      " 3. 4. 4. 4. 3. 1. 4. 4. 1. 4. 4. 4. 3. 4. 1. 4. 5. 3. 4. 4. 5. 2. 3. 5.\n",
      " 4. 3. 3. 4. 4. 3. 5. 4. 3. 4. 5. 3. 1. 3. 3. 2. 3. 5. 1. 3. 5. 5. 4. 5.\n",
      " 2. 3. 3. 4. 4. 4. 4. 4. 1. 1. 4. 3. 1. 5. 5. 5. 4. 4. 1. 1. 3. 4. 5. 5.\n",
      " 4. 1. 3. 4. 1. 3. 4. 5. 4. 2. 1. 4. 3. 4. 4. 3. 1. 4. 3. 5. 1. 4. 1. 2.\n",
      " 4. 4. 4. 5. 4. 4. 3. 5. 5. 3. 1. 5. 1. 1. 4. 2. 3. 4. 5. 5. 4. 5. 5. 4.\n",
      " 4. 4. 1. 3. 4. 4. 4. 3. 4. 4. 5. 2. 2. 5. 1. 4. 4. 1. 4. 4. 5. 4. 4. 1.\n",
      " 5. 3.]\n"
     ]
    }
   ],
   "source": [
    "NBC_scaled_predict = NBC_scaled.predict(X_test_scaled)\n",
    "print(\"Prediksi Naive Bayes : \",NBC_scaled_predict)"
   ]
  },
  {
   "cell_type": "code",
   "execution_count": 33,
   "id": "e0ceec90-ccac-449f-b12b-8c7e9fd81d9a",
   "metadata": {},
   "outputs": [
    {
     "data": {
      "text/plain": [
       "array([[107,   0,   0,   0,   0],\n",
       "       [  0,  37,   0,   0,   0],\n",
       "       [  0,   0, 145,   0,   0],\n",
       "       [  0,   0,   0, 287,   0],\n",
       "       [  0,   0,   0,   0, 122]], dtype=int64)"
      ]
     },
     "execution_count": 33,
     "metadata": {},
     "output_type": "execute_result"
    }
   ],
   "source": [
    "confusion_matrix(y_test, NBC_scaled_predict)"
   ]
  },
  {
   "cell_type": "code",
   "execution_count": 34,
   "id": "503aad83-9b57-474a-926a-b606f8238009",
   "metadata": {},
   "outputs": [
    {
     "name": "stdout",
     "output_type": "stream",
     "text": [
      "Accuracy score of Naive Bayes with scaled test input: 1.0\n"
     ]
    }
   ],
   "source": [
    "print(\"Accuracy score of Naive Bayes with scaled test input:\" , accuracy_score(y_test, NBC_scaled_predict))"
   ]
  },
  {
   "cell_type": "code",
   "execution_count": 35,
   "id": "716d0637-3bdf-4bb2-b31c-d02db63d548d",
   "metadata": {},
   "outputs": [
    {
     "name": "stdout",
     "output_type": "stream",
     "text": [
      "              precision    recall  f1-score   support\n",
      "\n",
      "         1.0       1.00      1.00      1.00       107\n",
      "         2.0       1.00      1.00      1.00        37\n",
      "         3.0       1.00      1.00      1.00       145\n",
      "         4.0       1.00      1.00      1.00       287\n",
      "         5.0       1.00      1.00      1.00       122\n",
      "\n",
      "    accuracy                           1.00       698\n",
      "   macro avg       1.00      1.00      1.00       698\n",
      "weighted avg       1.00      1.00      1.00       698\n",
      "\n"
     ]
    }
   ],
   "source": [
    "print(classification_report(NBC_scaled_predict, y_test))"
   ]
  },
  {
   "cell_type": "markdown",
   "id": "33289814-bffa-4b8b-bb08-a82eafabfbe1",
   "metadata": {},
   "source": [
    "### MODEL 3: MULTI-LAYER PERCEPTRON CLASSIFIER"
   ]
  },
  {
   "cell_type": "markdown",
   "id": "b0f3e701-4a4a-4a56-8d09-fd4edae3779a",
   "metadata": {},
   "source": [
    "#### Necessary library"
   ]
  },
  {
   "cell_type": "code",
   "execution_count": 36,
   "id": "5f2143dc-e274-428d-a5e0-f842d977fbb8",
   "metadata": {},
   "outputs": [],
   "source": [
    "from sklearn.neural_network import MLPClassifier\n",
    "from sklearn.datasets import make_classification"
   ]
  },
  {
   "cell_type": "markdown",
   "id": "d143865c-03d5-4621-9f43-9b89aca0580b",
   "metadata": {},
   "source": [
    "#### Build model"
   ]
  },
  {
   "cell_type": "code",
   "execution_count": 37,
   "id": "21e6078b-2756-42dd-833e-5a4ec42f93b2",
   "metadata": {},
   "outputs": [],
   "source": [
    "warnings.filterwarnings('ignore')\n",
    "MLPC_model = MLPClassifier(random_state= 5, max_iter=30).fit(X_train_scaled, y_train)"
   ]
  },
  {
   "cell_type": "markdown",
   "id": "4f7957a9-434c-44e9-aa4c-d99a6ec613dc",
   "metadata": {},
   "source": [
    "#### Testing"
   ]
  },
  {
   "cell_type": "code",
   "execution_count": 38,
   "id": "99b33a22-92b3-4899-b355-897d1792737f",
   "metadata": {},
   "outputs": [
    {
     "data": {
      "text/plain": [
       "array([[0.03798996, 0.04779745, 0.74982229, 0.16343628, 0.00095402]])"
      ]
     },
     "execution_count": 38,
     "metadata": {},
     "output_type": "execute_result"
    }
   ],
   "source": [
    "MLPC_model.predict_proba(X_test_scaled[:1])\n"
   ]
  },
  {
   "cell_type": "code",
   "execution_count": 39,
   "id": "27319f28-f776-425a-a227-6a39649149e7",
   "metadata": {},
   "outputs": [],
   "source": [
    "MLPC_scaled_predict = MLPC_model.predict(X_test_scaled)"
   ]
  },
  {
   "cell_type": "code",
   "execution_count": 40,
   "id": "7cf752aa-c32d-486b-b36a-2f005bb21bc1",
   "metadata": {},
   "outputs": [
    {
     "data": {
      "text/plain": [
       "0.9469914040114613"
      ]
     },
     "execution_count": 40,
     "metadata": {},
     "output_type": "execute_result"
    }
   ],
   "source": [
    "MLPC_model.score(X_test_scaled, y_test)\n"
   ]
  },
  {
   "cell_type": "code",
   "execution_count": 41,
   "id": "7282ba20-8d64-4010-8471-976bb1a32608",
   "metadata": {},
   "outputs": [
    {
     "data": {
      "text/plain": [
       "array([[106,   1,   0,   0,   0],\n",
       "       [ 25,   5,   7,   0,   0],\n",
       "       [  0,   0, 141,   4,   0],\n",
       "       [  0,   0,   0, 287,   0],\n",
       "       [  0,   0,   0,   0, 122]], dtype=int64)"
      ]
     },
     "execution_count": 41,
     "metadata": {},
     "output_type": "execute_result"
    }
   ],
   "source": [
    "confusion_matrix(y_test, MLPC_scaled_predict)"
   ]
  },
  {
   "cell_type": "code",
   "execution_count": 42,
   "id": "8c80cd72-d818-4f63-ad24-4bf24f12e343",
   "metadata": {},
   "outputs": [
    {
     "name": "stdout",
     "output_type": "stream",
     "text": [
      "              precision    recall  f1-score   support\n",
      "\n",
      "         1.0       0.99      0.81      0.89       131\n",
      "         2.0       0.14      0.83      0.23         6\n",
      "         3.0       0.97      0.95      0.96       148\n",
      "         4.0       1.00      0.99      0.99       291\n",
      "         5.0       1.00      1.00      1.00       122\n",
      "\n",
      "    accuracy                           0.95       698\n",
      "   macro avg       0.82      0.92      0.82       698\n",
      "weighted avg       0.98      0.95      0.96       698\n",
      "\n"
     ]
    }
   ],
   "source": [
    "print(classification_report(MLPC_scaled_predict, y_test))"
   ]
  }
 ],
 "metadata": {
  "kernelspec": {
   "display_name": "Python 3 (ipykernel)",
   "language": "python",
   "name": "python3"
  },
  "language_info": {
   "codemirror_mode": {
    "name": "ipython",
    "version": 3
   },
   "file_extension": ".py",
   "mimetype": "text/x-python",
   "name": "python",
   "nbconvert_exporter": "python",
   "pygments_lexer": "ipython3",
   "version": "3.12.0"
  }
 },
 "nbformat": 4,
 "nbformat_minor": 5
}
